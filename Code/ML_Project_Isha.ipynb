{
  "cells": [
    {
      "cell_type": "code",
      "execution_count": null,
      "metadata": {
        "id": "DZWmJ7iqQzWz"
      },
      "outputs": [],
      "source": [
        "import pandas as pd\n",
        "import numpy as np\n",
        "import seaborn as sns \n",
        "import matplotlib.pyplot as plt \n",
        "%matplotlib inline \n",
        "sns.set(color_codes=True)\n",
        "import io"
      ]
    },
    {
      "cell_type": "code",
      "source": [
        "from google.colab import drive\n",
        "drive.mount('/content/gdrive')"
      ],
      "metadata": {
        "colab": {
          "base_uri": "https://localhost:8080/"
        },
        "id": "fgzrIvdhXyjW",
        "outputId": "9e7f3a71-0a68-4a5c-bb6f-9f7f8294f14d"
      },
      "execution_count": null,
      "outputs": [
        {
          "output_type": "stream",
          "name": "stdout",
          "text": [
            "Drive already mounted at /content/gdrive; to attempt to forcibly remount, call drive.mount(\"/content/gdrive\", force_remount=True).\n"
          ]
        }
      ]
    },
    {
      "cell_type": "code",
      "execution_count": null,
      "metadata": {
        "colab": {
          "base_uri": "https://localhost:8080/"
        },
        "id": "71IBRYYERdmH",
        "outputId": "f4965cc5-1be0-4176-81fd-dee422302c5b"
      },
      "outputs": [
        {
          "output_type": "stream",
          "name": "stdout",
          "text": [
            "(529, 2583)\n"
          ]
        }
      ],
      "source": [
        "df = pd.read_csv('gdrive/My Drive/FFeatures.csv')\n",
        "print(df.shape)"
      ]
    },
    {
      "cell_type": "code",
      "execution_count": null,
      "metadata": {
        "colab": {
          "base_uri": "https://localhost:8080/",
          "height": 922
        },
        "id": "6PA0_TBFRmtJ",
        "outputId": "90b9e30f-62b5-4ac5-9e7e-d379b786d12e"
      },
      "outputs": [
        {
          "output_type": "execute_result",
          "data": {
            "text/plain": [
              "           alias                        username  \\\n",
              "0     1misssmeis    Sylvie Meis Official Account   \n",
              "1     1misssmeis    Sylvie Meis Official Account   \n",
              "2     1misssmeis    Sylvie Meis Official Account   \n",
              "3         3ala2o                    Alaa Ebrahim   \n",
              "4         3ala2o                    Alaa Ebrahim   \n",
              "...          ...                             ...   \n",
              "1011    j.hannah  Jess Hannah 〰J. Hannah Jewelry   \n",
              "1012    j.hannah  Jess Hannah 〰J. Hannah Jewelry   \n",
              "1013       jacob           J A C O B R I G L I N   \n",
              "1014       jacob           J A C O B R I G L I N   \n",
              "1015       jacob           J A C O B R I G L I N   \n",
              "\n",
              "                                     descriptionProfile  \\\n",
              "0     [\"TV Host Let's Dance for RTL Germany / SBS6 /...   \n",
              "1     [\"TV Host Let's Dance for RTL Germany / SBS6 /...   \n",
              "2     [\"TV Host Let's Dance for RTL Germany / SBS6 /...   \n",
              "3     ['Youtuber/Gamer/Vlogger/Business owner . Snap...   \n",
              "4     ['Youtuber/Gamer/Vlogger/Business owner . Snap...   \n",
              "...                                                 ...   \n",
              "1011  ['FINE JEWELRY | JOURNAL #FineJewelryForFineLa...   \n",
              "1012  ['FINE JEWELRY | JOURNAL #FineJewelryForFineLa...   \n",
              "1013  ['Director of Content at @beautifuldestination...   \n",
              "1014  ['Director of Content at @beautifuldestination...   \n",
              "1015  ['Director of Content at @beautifuldestination...   \n",
              "\n",
              "                                  website  numberPosts  numberFollowers  \\\n",
              "0                       www.sylviemeis.de          988           720979   \n",
              "1                       www.sylviemeis.de          988           720979   \n",
              "2                       www.sylviemeis.de          988           720979   \n",
              "3     www.youtube.com/watch?v=MXkqzeIlhSQ          938           792886   \n",
              "4     www.youtube.com/watch?v=MXkqzeIlhSQ          938           792886   \n",
              "...                                   ...          ...              ...   \n",
              "1011                   jhannahjewelry.com          765           208063   \n",
              "1012                   jhannahjewelry.com          765           208063   \n",
              "1013               www.guyhepner.com/shop         1438           527178   \n",
              "1014               www.guyhepner.com/shop         1438           527178   \n",
              "1015               www.guyhepner.com/shop         1438           527178   \n",
              "\n",
              "      numberFollowing  private  isVideo  multipleImage  ...  \\\n",
              "0                 233        0        0              0  ...   \n",
              "1                 233        0        0              0  ...   \n",
              "2                 233        0        0              0  ...   \n",
              "3                 466        0        0              0  ...   \n",
              "4                 466        0        0              0  ...   \n",
              "...               ...      ...      ...            ...  ...   \n",
              "1011              838        0        0              0  ...   \n",
              "1012              838        0        0              0  ...   \n",
              "1013              279        0        0              0  ...   \n",
              "1014              279        0        0              0  ...   \n",
              "1015              279        0        0              0  ...   \n",
              "\n",
              "                                            description  \\\n",
              "0     Calm before the 'glam' storm! 💋💄💅🏻💆🏼💇🏼Tomorrow...   \n",
              "1     With my lovely colleague @fraukeludowig_offici...   \n",
              "2     My look last night, hosting Let's Dance! Style...   \n",
              "3                                                    👌👌   \n",
              "4     .\\r\\n.\\r\\nقبل فتره استلمت لابتوب #LegionY520 م...   \n",
              "...                                                 ...   \n",
              "1011  Manners for modern women — included with order...   \n",
              "1012  In Detail — considering modern manners in our ...   \n",
              "1013  It's an eerie feeling seeing a perfect mirror ...   \n",
              "1014  Made a last minute decision to spend the weeke...   \n",
              "1015  @beautifuldestinations spent the last two week...   \n",
              "\n",
              "                       localization                      date numberLikes  \\\n",
              "0                               NaN  2017-04-27T05:00:00.000Z       11227   \n",
              "1                               NaN  2017-04-29T05:00:00.000Z       10047   \n",
              "2                               NaN  2017-04-29T05:00:00.000Z       16781   \n",
              "3                               NaN  2017-04-18T05:00:00.000Z        9132   \n",
              "4                               NaN  2017-04-24T05:00:00.000Z        6000   \n",
              "...                             ...                       ...         ...   \n",
              "1011                            NaN  2017-04-28T05:00:00.000Z         818   \n",
              "1012                            NaN  2017-04-30T05:00:00.000Z         440   \n",
              "1013          Olympic National Park  2017-04-25T05:00:00.000Z       33000   \n",
              "1014                    Westminster  2017-04-30T05:00:00.000Z       24458   \n",
              "1015  Port Angeles East, Washington  2017-04-29T05:00:00.000Z       32368   \n",
              "\n",
              "                                               filename  avgPrevious10Likes  \\\n",
              "0     18096206_126240614590026_6106733145975947264_n...        19881.545455   \n",
              "1     18161288_472089323136061_5128727096486526976_n...        17773.272727   \n",
              "2     18161312_678529115665252_1780327406628765696_n...        19516.090909   \n",
              "3     18011549_494145874042829_5968002476794707968_n...         8919.545455   \n",
              "4     18013785_1299726350135511_3450110605690667008_...         9201.545455   \n",
              "...                                                 ...                 ...   \n",
              "1011  18096038_285695808523287_3202245255604731904_n...          886.090909   \n",
              "1012  18251497_1038934886243362_1745291412775108608_...          865.909091   \n",
              "1013  18011601_1354819071304588_1018333821008871424_...        25787.090909   \n",
              "1014  18096424_1675787075769812_8255993239694213120_...        26150.363636   \n",
              "1015  18251576_1338216126268548_6100277883144503296_...        25984.727273   \n",
              "\n",
              "     stdPrevious10Likes  avgPrevious3Likes  stdPrevious3Likes  avgPostsWeekly  \n",
              "0           8586.574056           13742.00        5156.535691        5.526316  \n",
              "1           7503.863008           12386.75        5161.117838        5.666667  \n",
              "2           9014.520102           13455.00        5818.683958        5.333333  \n",
              "3           3214.840665            5660.75        3003.871557        2.234043  \n",
              "4           2948.003884            5195.75        1941.644750        2.113208  \n",
              "...                 ...                ...                ...             ...  \n",
              "1011         227.421317             706.00          49.003401        5.090909  \n",
              "1012         231.143654             687.50          88.754343        4.958333  \n",
              "1013        4774.237922           19282.75        2417.959953        5.526316  \n",
              "1014        5057.787026           22864.50        3820.139788        4.958333  \n",
              "1015        4945.151695           20553.75        5067.131832        4.869565  \n",
              "\n",
              "[1016 rows x 22 columns]"
            ],
            "text/html": [
              "\n",
              "  <div id=\"df-6e1dee40-7b07-4630-9589-e3135150e2ba\">\n",
              "    <div class=\"colab-df-container\">\n",
              "      <div>\n",
              "<style scoped>\n",
              "    .dataframe tbody tr th:only-of-type {\n",
              "        vertical-align: middle;\n",
              "    }\n",
              "\n",
              "    .dataframe tbody tr th {\n",
              "        vertical-align: top;\n",
              "    }\n",
              "\n",
              "    .dataframe thead th {\n",
              "        text-align: right;\n",
              "    }\n",
              "</style>\n",
              "<table border=\"1\" class=\"dataframe\">\n",
              "  <thead>\n",
              "    <tr style=\"text-align: right;\">\n",
              "      <th></th>\n",
              "      <th>alias</th>\n",
              "      <th>username</th>\n",
              "      <th>descriptionProfile</th>\n",
              "      <th>website</th>\n",
              "      <th>numberPosts</th>\n",
              "      <th>numberFollowers</th>\n",
              "      <th>numberFollowing</th>\n",
              "      <th>private</th>\n",
              "      <th>isVideo</th>\n",
              "      <th>multipleImage</th>\n",
              "      <th>...</th>\n",
              "      <th>description</th>\n",
              "      <th>localization</th>\n",
              "      <th>date</th>\n",
              "      <th>numberLikes</th>\n",
              "      <th>filename</th>\n",
              "      <th>avgPrevious10Likes</th>\n",
              "      <th>stdPrevious10Likes</th>\n",
              "      <th>avgPrevious3Likes</th>\n",
              "      <th>stdPrevious3Likes</th>\n",
              "      <th>avgPostsWeekly</th>\n",
              "    </tr>\n",
              "  </thead>\n",
              "  <tbody>\n",
              "    <tr>\n",
              "      <th>0</th>\n",
              "      <td>1misssmeis</td>\n",
              "      <td>Sylvie Meis Official Account</td>\n",
              "      <td>[\"TV Host Let's Dance for RTL Germany / SBS6 /...</td>\n",
              "      <td>www.sylviemeis.de</td>\n",
              "      <td>988</td>\n",
              "      <td>720979</td>\n",
              "      <td>233</td>\n",
              "      <td>0</td>\n",
              "      <td>0</td>\n",
              "      <td>0</td>\n",
              "      <td>...</td>\n",
              "      <td>Calm before the 'glam' storm! 💋💄💅🏻💆🏼💇🏼Tomorrow...</td>\n",
              "      <td>NaN</td>\n",
              "      <td>2017-04-27T05:00:00.000Z</td>\n",
              "      <td>11227</td>\n",
              "      <td>18096206_126240614590026_6106733145975947264_n...</td>\n",
              "      <td>19881.545455</td>\n",
              "      <td>8586.574056</td>\n",
              "      <td>13742.00</td>\n",
              "      <td>5156.535691</td>\n",
              "      <td>5.526316</td>\n",
              "    </tr>\n",
              "    <tr>\n",
              "      <th>1</th>\n",
              "      <td>1misssmeis</td>\n",
              "      <td>Sylvie Meis Official Account</td>\n",
              "      <td>[\"TV Host Let's Dance for RTL Germany / SBS6 /...</td>\n",
              "      <td>www.sylviemeis.de</td>\n",
              "      <td>988</td>\n",
              "      <td>720979</td>\n",
              "      <td>233</td>\n",
              "      <td>0</td>\n",
              "      <td>0</td>\n",
              "      <td>0</td>\n",
              "      <td>...</td>\n",
              "      <td>With my lovely colleague @fraukeludowig_offici...</td>\n",
              "      <td>NaN</td>\n",
              "      <td>2017-04-29T05:00:00.000Z</td>\n",
              "      <td>10047</td>\n",
              "      <td>18161288_472089323136061_5128727096486526976_n...</td>\n",
              "      <td>17773.272727</td>\n",
              "      <td>7503.863008</td>\n",
              "      <td>12386.75</td>\n",
              "      <td>5161.117838</td>\n",
              "      <td>5.666667</td>\n",
              "    </tr>\n",
              "    <tr>\n",
              "      <th>2</th>\n",
              "      <td>1misssmeis</td>\n",
              "      <td>Sylvie Meis Official Account</td>\n",
              "      <td>[\"TV Host Let's Dance for RTL Germany / SBS6 /...</td>\n",
              "      <td>www.sylviemeis.de</td>\n",
              "      <td>988</td>\n",
              "      <td>720979</td>\n",
              "      <td>233</td>\n",
              "      <td>0</td>\n",
              "      <td>0</td>\n",
              "      <td>0</td>\n",
              "      <td>...</td>\n",
              "      <td>My look last night, hosting Let's Dance! Style...</td>\n",
              "      <td>NaN</td>\n",
              "      <td>2017-04-29T05:00:00.000Z</td>\n",
              "      <td>16781</td>\n",
              "      <td>18161312_678529115665252_1780327406628765696_n...</td>\n",
              "      <td>19516.090909</td>\n",
              "      <td>9014.520102</td>\n",
              "      <td>13455.00</td>\n",
              "      <td>5818.683958</td>\n",
              "      <td>5.333333</td>\n",
              "    </tr>\n",
              "    <tr>\n",
              "      <th>3</th>\n",
              "      <td>3ala2o</td>\n",
              "      <td>Alaa Ebrahim</td>\n",
              "      <td>['Youtuber/Gamer/Vlogger/Business owner . Snap...</td>\n",
              "      <td>www.youtube.com/watch?v=MXkqzeIlhSQ</td>\n",
              "      <td>938</td>\n",
              "      <td>792886</td>\n",
              "      <td>466</td>\n",
              "      <td>0</td>\n",
              "      <td>0</td>\n",
              "      <td>0</td>\n",
              "      <td>...</td>\n",
              "      <td>👌👌</td>\n",
              "      <td>NaN</td>\n",
              "      <td>2017-04-18T05:00:00.000Z</td>\n",
              "      <td>9132</td>\n",
              "      <td>18011549_494145874042829_5968002476794707968_n...</td>\n",
              "      <td>8919.545455</td>\n",
              "      <td>3214.840665</td>\n",
              "      <td>5660.75</td>\n",
              "      <td>3003.871557</td>\n",
              "      <td>2.234043</td>\n",
              "    </tr>\n",
              "    <tr>\n",
              "      <th>4</th>\n",
              "      <td>3ala2o</td>\n",
              "      <td>Alaa Ebrahim</td>\n",
              "      <td>['Youtuber/Gamer/Vlogger/Business owner . Snap...</td>\n",
              "      <td>www.youtube.com/watch?v=MXkqzeIlhSQ</td>\n",
              "      <td>938</td>\n",
              "      <td>792886</td>\n",
              "      <td>466</td>\n",
              "      <td>0</td>\n",
              "      <td>0</td>\n",
              "      <td>0</td>\n",
              "      <td>...</td>\n",
              "      <td>.\\r\\n.\\r\\nقبل فتره استلمت لابتوب #LegionY520 م...</td>\n",
              "      <td>NaN</td>\n",
              "      <td>2017-04-24T05:00:00.000Z</td>\n",
              "      <td>6000</td>\n",
              "      <td>18013785_1299726350135511_3450110605690667008_...</td>\n",
              "      <td>9201.545455</td>\n",
              "      <td>2948.003884</td>\n",
              "      <td>5195.75</td>\n",
              "      <td>1941.644750</td>\n",
              "      <td>2.113208</td>\n",
              "    </tr>\n",
              "    <tr>\n",
              "      <th>...</th>\n",
              "      <td>...</td>\n",
              "      <td>...</td>\n",
              "      <td>...</td>\n",
              "      <td>...</td>\n",
              "      <td>...</td>\n",
              "      <td>...</td>\n",
              "      <td>...</td>\n",
              "      <td>...</td>\n",
              "      <td>...</td>\n",
              "      <td>...</td>\n",
              "      <td>...</td>\n",
              "      <td>...</td>\n",
              "      <td>...</td>\n",
              "      <td>...</td>\n",
              "      <td>...</td>\n",
              "      <td>...</td>\n",
              "      <td>...</td>\n",
              "      <td>...</td>\n",
              "      <td>...</td>\n",
              "      <td>...</td>\n",
              "      <td>...</td>\n",
              "    </tr>\n",
              "    <tr>\n",
              "      <th>1011</th>\n",
              "      <td>j.hannah</td>\n",
              "      <td>Jess Hannah 〰J. Hannah Jewelry</td>\n",
              "      <td>['FINE JEWELRY | JOURNAL #FineJewelryForFineLa...</td>\n",
              "      <td>jhannahjewelry.com</td>\n",
              "      <td>765</td>\n",
              "      <td>208063</td>\n",
              "      <td>838</td>\n",
              "      <td>0</td>\n",
              "      <td>0</td>\n",
              "      <td>0</td>\n",
              "      <td>...</td>\n",
              "      <td>Manners for modern women — included with order...</td>\n",
              "      <td>NaN</td>\n",
              "      <td>2017-04-28T05:00:00.000Z</td>\n",
              "      <td>818</td>\n",
              "      <td>18096038_285695808523287_3202245255604731904_n...</td>\n",
              "      <td>886.090909</td>\n",
              "      <td>227.421317</td>\n",
              "      <td>706.00</td>\n",
              "      <td>49.003401</td>\n",
              "      <td>5.090909</td>\n",
              "    </tr>\n",
              "    <tr>\n",
              "      <th>1012</th>\n",
              "      <td>j.hannah</td>\n",
              "      <td>Jess Hannah 〰J. Hannah Jewelry</td>\n",
              "      <td>['FINE JEWELRY | JOURNAL #FineJewelryForFineLa...</td>\n",
              "      <td>jhannahjewelry.com</td>\n",
              "      <td>765</td>\n",
              "      <td>208063</td>\n",
              "      <td>838</td>\n",
              "      <td>0</td>\n",
              "      <td>0</td>\n",
              "      <td>0</td>\n",
              "      <td>...</td>\n",
              "      <td>In Detail — considering modern manners in our ...</td>\n",
              "      <td>NaN</td>\n",
              "      <td>2017-04-30T05:00:00.000Z</td>\n",
              "      <td>440</td>\n",
              "      <td>18251497_1038934886243362_1745291412775108608_...</td>\n",
              "      <td>865.909091</td>\n",
              "      <td>231.143654</td>\n",
              "      <td>687.50</td>\n",
              "      <td>88.754343</td>\n",
              "      <td>4.958333</td>\n",
              "    </tr>\n",
              "    <tr>\n",
              "      <th>1013</th>\n",
              "      <td>jacob</td>\n",
              "      <td>J A C O B R I G L I N</td>\n",
              "      <td>['Director of Content at @beautifuldestination...</td>\n",
              "      <td>www.guyhepner.com/shop</td>\n",
              "      <td>1438</td>\n",
              "      <td>527178</td>\n",
              "      <td>279</td>\n",
              "      <td>0</td>\n",
              "      <td>0</td>\n",
              "      <td>0</td>\n",
              "      <td>...</td>\n",
              "      <td>It's an eerie feeling seeing a perfect mirror ...</td>\n",
              "      <td>Olympic National Park</td>\n",
              "      <td>2017-04-25T05:00:00.000Z</td>\n",
              "      <td>33000</td>\n",
              "      <td>18011601_1354819071304588_1018333821008871424_...</td>\n",
              "      <td>25787.090909</td>\n",
              "      <td>4774.237922</td>\n",
              "      <td>19282.75</td>\n",
              "      <td>2417.959953</td>\n",
              "      <td>5.526316</td>\n",
              "    </tr>\n",
              "    <tr>\n",
              "      <th>1014</th>\n",
              "      <td>jacob</td>\n",
              "      <td>J A C O B R I G L I N</td>\n",
              "      <td>['Director of Content at @beautifuldestination...</td>\n",
              "      <td>www.guyhepner.com/shop</td>\n",
              "      <td>1438</td>\n",
              "      <td>527178</td>\n",
              "      <td>279</td>\n",
              "      <td>0</td>\n",
              "      <td>0</td>\n",
              "      <td>0</td>\n",
              "      <td>...</td>\n",
              "      <td>Made a last minute decision to spend the weeke...</td>\n",
              "      <td>Westminster</td>\n",
              "      <td>2017-04-30T05:00:00.000Z</td>\n",
              "      <td>24458</td>\n",
              "      <td>18096424_1675787075769812_8255993239694213120_...</td>\n",
              "      <td>26150.363636</td>\n",
              "      <td>5057.787026</td>\n",
              "      <td>22864.50</td>\n",
              "      <td>3820.139788</td>\n",
              "      <td>4.958333</td>\n",
              "    </tr>\n",
              "    <tr>\n",
              "      <th>1015</th>\n",
              "      <td>jacob</td>\n",
              "      <td>J A C O B R I G L I N</td>\n",
              "      <td>['Director of Content at @beautifuldestination...</td>\n",
              "      <td>www.guyhepner.com/shop</td>\n",
              "      <td>1438</td>\n",
              "      <td>527178</td>\n",
              "      <td>279</td>\n",
              "      <td>0</td>\n",
              "      <td>0</td>\n",
              "      <td>0</td>\n",
              "      <td>...</td>\n",
              "      <td>@beautifuldestinations spent the last two week...</td>\n",
              "      <td>Port Angeles East, Washington</td>\n",
              "      <td>2017-04-29T05:00:00.000Z</td>\n",
              "      <td>32368</td>\n",
              "      <td>18251576_1338216126268548_6100277883144503296_...</td>\n",
              "      <td>25984.727273</td>\n",
              "      <td>4945.151695</td>\n",
              "      <td>20553.75</td>\n",
              "      <td>5067.131832</td>\n",
              "      <td>4.869565</td>\n",
              "    </tr>\n",
              "  </tbody>\n",
              "</table>\n",
              "<p>1016 rows × 22 columns</p>\n",
              "</div>\n",
              "      <button class=\"colab-df-convert\" onclick=\"convertToInteractive('df-6e1dee40-7b07-4630-9589-e3135150e2ba')\"\n",
              "              title=\"Convert this dataframe to an interactive table.\"\n",
              "              style=\"display:none;\">\n",
              "        \n",
              "  <svg xmlns=\"http://www.w3.org/2000/svg\" height=\"24px\"viewBox=\"0 0 24 24\"\n",
              "       width=\"24px\">\n",
              "    <path d=\"M0 0h24v24H0V0z\" fill=\"none\"/>\n",
              "    <path d=\"M18.56 5.44l.94 2.06.94-2.06 2.06-.94-2.06-.94-.94-2.06-.94 2.06-2.06.94zm-11 1L8.5 8.5l.94-2.06 2.06-.94-2.06-.94L8.5 2.5l-.94 2.06-2.06.94zm10 10l.94 2.06.94-2.06 2.06-.94-2.06-.94-.94-2.06-.94 2.06-2.06.94z\"/><path d=\"M17.41 7.96l-1.37-1.37c-.4-.4-.92-.59-1.43-.59-.52 0-1.04.2-1.43.59L10.3 9.45l-7.72 7.72c-.78.78-.78 2.05 0 2.83L4 21.41c.39.39.9.59 1.41.59.51 0 1.02-.2 1.41-.59l7.78-7.78 2.81-2.81c.8-.78.8-2.07 0-2.86zM5.41 20L4 18.59l7.72-7.72 1.47 1.35L5.41 20z\"/>\n",
              "  </svg>\n",
              "      </button>\n",
              "      \n",
              "  <style>\n",
              "    .colab-df-container {\n",
              "      display:flex;\n",
              "      flex-wrap:wrap;\n",
              "      gap: 12px;\n",
              "    }\n",
              "\n",
              "    .colab-df-convert {\n",
              "      background-color: #E8F0FE;\n",
              "      border: none;\n",
              "      border-radius: 50%;\n",
              "      cursor: pointer;\n",
              "      display: none;\n",
              "      fill: #1967D2;\n",
              "      height: 32px;\n",
              "      padding: 0 0 0 0;\n",
              "      width: 32px;\n",
              "    }\n",
              "\n",
              "    .colab-df-convert:hover {\n",
              "      background-color: #E2EBFA;\n",
              "      box-shadow: 0px 1px 2px rgba(60, 64, 67, 0.3), 0px 1px 3px 1px rgba(60, 64, 67, 0.15);\n",
              "      fill: #174EA6;\n",
              "    }\n",
              "\n",
              "    [theme=dark] .colab-df-convert {\n",
              "      background-color: #3B4455;\n",
              "      fill: #D2E3FC;\n",
              "    }\n",
              "\n",
              "    [theme=dark] .colab-df-convert:hover {\n",
              "      background-color: #434B5C;\n",
              "      box-shadow: 0px 1px 3px 1px rgba(0, 0, 0, 0.15);\n",
              "      filter: drop-shadow(0px 1px 2px rgba(0, 0, 0, 0.3));\n",
              "      fill: #FFFFFF;\n",
              "    }\n",
              "  </style>\n",
              "\n",
              "      <script>\n",
              "        const buttonEl =\n",
              "          document.querySelector('#df-6e1dee40-7b07-4630-9589-e3135150e2ba button.colab-df-convert');\n",
              "        buttonEl.style.display =\n",
              "          google.colab.kernel.accessAllowed ? 'block' : 'none';\n",
              "\n",
              "        async function convertToInteractive(key) {\n",
              "          const element = document.querySelector('#df-6e1dee40-7b07-4630-9589-e3135150e2ba');\n",
              "          const dataTable =\n",
              "            await google.colab.kernel.invokeFunction('convertToInteractive',\n",
              "                                                     [key], {});\n",
              "          if (!dataTable) return;\n",
              "\n",
              "          const docLinkHtml = 'Like what you see? Visit the ' +\n",
              "            '<a target=\"_blank\" href=https://colab.research.google.com/notebooks/data_table.ipynb>data table notebook</a>'\n",
              "            + ' to learn more about interactive tables.';\n",
              "          element.innerHTML = '';\n",
              "          dataTable['output_type'] = 'display_data';\n",
              "          await google.colab.output.renderOutput(dataTable, element);\n",
              "          const docLink = document.createElement('div');\n",
              "          docLink.innerHTML = docLinkHtml;\n",
              "          element.appendChild(docLink);\n",
              "        }\n",
              "      </script>\n",
              "    </div>\n",
              "  </div>\n",
              "  "
            ]
          },
          "metadata": {},
          "execution_count": 4
        }
      ],
      "source": [
        "df[\"private\"] = df[\"private\"].astype(int)\n",
        "df[\"isVideo\"] = df[\"isVideo\"].astype(int)\n",
        "df[\"multipleImage\"] = df[\"multipleImage\"].astype(int)\n",
        "df"
      ]
    },
    {
      "cell_type": "code",
      "execution_count": null,
      "metadata": {
        "colab": {
          "base_uri": "https://localhost:8080/"
        },
        "id": "aVjKSxxGj0zb",
        "outputId": "988d8214-9b71-46bf-d169-24acc42d0be9"
      },
      "outputs": [
        {
          "output_type": "stream",
          "name": "stdout",
          "text": [
            "[0]\n"
          ]
        }
      ],
      "source": [
        "Unq = df['private'].to_numpy()\n",
        "print(np.unique(Unq))"
      ]
    },
    {
      "cell_type": "code",
      "execution_count": null,
      "metadata": {
        "colab": {
          "base_uri": "https://localhost:8080/"
        },
        "id": "b5RmGOtM5jW8",
        "outputId": "b6999e0a-8a62-4053-d4e6-3d0192bdb643"
      },
      "outputs": [
        {
          "output_type": "stream",
          "name": "stdout",
          "text": [
            "<class 'pandas.core.frame.DataFrame'>\n",
            "RangeIndex: 1016 entries, 0 to 1015\n",
            "Data columns (total 22 columns):\n",
            " #   Column              Non-Null Count  Dtype  \n",
            "---  ------              --------------  -----  \n",
            " 0   alias               1016 non-null   object \n",
            " 1   username            1010 non-null   object \n",
            " 2   descriptionProfile  1007 non-null   object \n",
            " 3   website             919 non-null    object \n",
            " 4   numberPosts         1016 non-null   int64  \n",
            " 5   numberFollowers     1016 non-null   int64  \n",
            " 6   numberFollowing     1016 non-null   int64  \n",
            " 7   private             1016 non-null   int64  \n",
            " 8   isVideo             1016 non-null   int64  \n",
            " 9   multipleImage       1016 non-null   int64  \n",
            " 10  tags                1016 non-null   object \n",
            " 11  mentions            1016 non-null   object \n",
            " 12  description         1000 non-null   object \n",
            " 13  localization        429 non-null    object \n",
            " 14  date                1016 non-null   object \n",
            " 15  numberLikes         1016 non-null   int64  \n",
            " 16  filename            1016 non-null   object \n",
            " 17  avgPrevious10Likes  1016 non-null   float64\n",
            " 18  stdPrevious10Likes  1016 non-null   float64\n",
            " 19  avgPrevious3Likes   1016 non-null   float64\n",
            " 20  stdPrevious3Likes   1016 non-null   float64\n",
            " 21  avgPostsWeekly      1016 non-null   float64\n",
            "dtypes: float64(5), int64(7), object(10)\n",
            "memory usage: 174.8+ KB\n"
          ]
        }
      ],
      "source": [
        "df.info()"
      ]
    },
    {
      "cell_type": "code",
      "source": [
        "dfForexport = df[['filename','numberPosts','numberFollowers','numberFollowing','avgPrevious10Likes','avgPrevious3Likes','stdPrevious10Likes','stdPrevious3Likes','avgPostsWeekly','numberLikes']]\t\n",
        "dfForexport.info()"
      ],
      "metadata": {
        "colab": {
          "base_uri": "https://localhost:8080/"
        },
        "id": "VVaL3XnIpcIb",
        "outputId": "40ae0c60-2a98-43d0-e2b4-543253380e1e"
      },
      "execution_count": null,
      "outputs": [
        {
          "output_type": "stream",
          "name": "stdout",
          "text": [
            "<class 'pandas.core.frame.DataFrame'>\n",
            "RangeIndex: 1016 entries, 0 to 1015\n",
            "Data columns (total 10 columns):\n",
            " #   Column              Non-Null Count  Dtype  \n",
            "---  ------              --------------  -----  \n",
            " 0   filename            1016 non-null   object \n",
            " 1   numberPosts         1016 non-null   int64  \n",
            " 2   numberFollowers     1016 non-null   int64  \n",
            " 3   numberFollowing     1016 non-null   int64  \n",
            " 4   avgPrevious10Likes  1016 non-null   float64\n",
            " 5   avgPrevious3Likes   1016 non-null   float64\n",
            " 6   stdPrevious10Likes  1016 non-null   float64\n",
            " 7   stdPrevious3Likes   1016 non-null   float64\n",
            " 8   avgPostsWeekly      1016 non-null   float64\n",
            " 9   numberLikes         1016 non-null   int64  \n",
            "dtypes: float64(5), int64(4), object(1)\n",
            "memory usage: 79.5+ KB\n"
          ]
        }
      ]
    },
    {
      "cell_type": "code",
      "execution_count": null,
      "metadata": {
        "id": "l42mwEB4bJWl"
      },
      "outputs": [],
      "source": [
        "import cv2\n",
        "import numpy as np\n",
        "import scipy\n",
        "# from scipy.misc import imread\n",
        "# import cPickle as pickle\n",
        "import random\n",
        "import os\n",
        "import matplotlib.pyplot as plt\n",
        "\n",
        "# Feature extractor\n",
        "def extract_features(image_path, vector_size=50):\n",
        "    image = cv2.imread(image_path)\n",
        "    # 128x128\n",
        "    # plt.imshow(img)\n",
        "    # plt.show()\n",
        "    try:\n",
        "        # Using KAZE, cause SIFT, ORB and other was moved to additional module\n",
        "        # which is adding addtional pain during install\n",
        "        alg = cv2.KAZE_create()\n",
        "        # Finding image keypoints\n",
        "        kps = alg.detect(image)\n",
        "        # Getting first 32 of them. \n",
        "        # Number of keypoints is varies depend on image size and color pallet\n",
        "        # Sorting them based on keypoint response value(bigger is better)\n",
        "        kps = sorted(kps, key=lambda x: -x.response)[:vector_size]\n",
        "        # computing descriptors vector\n",
        "        kps, dsc = alg.compute(image, kps)\n",
        "        # Flatten all of them in one big vector - our feature vector\n",
        "        dsc = dsc.flatten()\n",
        "        # Making descriptor of same size\n",
        "        # Descriptor vector size is 64\n",
        "        needed_size = (vector_size * 64)\n",
        "        if dsc.size < needed_size:\n",
        "            # if we have less the 32 descriptors then just adding zeros at the\n",
        "            # end of our feature vector\n",
        "            dsc = np.concatenate([dsc, np.zeros(needed_size - dsc.size)])\n",
        "    except cv2.error as e:\n",
        "        print('Error: ', e)\n",
        "        return None\n",
        "\n",
        "    return dsc"
      ]
    },
    {
      "cell_type": "code",
      "execution_count": null,
      "metadata": {
        "colab": {
          "base_uri": "https://localhost:8080/"
        },
        "id": "UdV71gIPgQVr",
        "outputId": "e9272c8a-2847-48ab-d051-f133061c9fec"
      },
      "outputs": [
        {
          "output_type": "stream",
          "name": "stdout",
          "text": [
            "Requirement already satisfied: numpy in /usr/local/lib/python3.7/dist-packages (1.21.5)\n",
            "Requirement already satisfied: opencv-python==3.4.2.17 in /usr/local/lib/python3.7/dist-packages (3.4.2.17)\n",
            "Requirement already satisfied: opencv-contrib-python==3.4.2.17 in /usr/local/lib/python3.7/dist-packages (3.4.2.17)\n"
          ]
        }
      ],
      "source": [
        "pip install numpy opencv-python==3.4.2.17 opencv-contrib-python==3.4.2.17"
      ]
    },
    {
      "cell_type": "code",
      "execution_count": null,
      "metadata": {
        "colab": {
          "base_uri": "https://localhost:8080/",
          "height": 289
        },
        "id": "9peSgsuRdOTV",
        "outputId": "1573fe41-f1f6-4c23-ac6a-36e44a3ec197"
      },
      "outputs": [
        {
          "output_type": "display_data",
          "data": {
            "text/plain": [
              "<Figure size 432x288 with 1 Axes>"
            ],
            "image/png": "[encoded data removed]"
          },
          "metadata": {}
        },
        {
          "output_type": "stream",
          "name": "stdout",
          "text": [
            "2560\n"
          ]
        }
      ],
      "source": [
        "img = cv2.imread('18013888_828065424025346_6626603864453808128_n.jpg.png')\n",
        "plt.imshow(img)\n",
        "plt.show()\n",
        "# x=extract_features('/content/18096206_126240614590026_6106733145975947264_n.jpg.png',40)\n",
        "# x=extract_features('/content/18161288_472089323136061_5128727096486526976_n.jpg.png',40)\n",
        "x = extract_features('18013888_828065424025346_6626603864453808128_n.jpg.png',40)\n",
        "print(len(x))"
      ]
    },
    {
      "cell_type": "code",
      "execution_count": null,
      "metadata": {
        "colab": {
          "background_save": true,
          "base_uri": "https://localhost:8080/",
          "height": 524
        },
        "id": "x1sW3uiWsDxz",
        "outputId": "d3cfc99b-aeb7-4cca-9eaf-f0cbbe992e9e"
      },
      "outputs": [
        {
          "name": "stdout",
          "output_type": "stream",
          "text": [
            "18013888_828065424025346_6626603864453808128_n.jpg.png\n"
          ]
        },
        {
          "data": {
            "image/png": "[encoded data removed]",
            "text/plain": [
              "<Figure size 432x288 with 1 Axes>"
            ]
          },
          "metadata": {},
          "output_type": "display_data"
        },
        {
          "name": "stdout",
          "output_type": "stream",
          "text": [
            "(34048,)\n"
          ]
        }
      ],
      "source": [
        "print(df.iloc[53]['filename'])\n",
        "\n",
        "image_name=df.iloc[53]['filename']\n",
        "image=cv2.imread(image_name,0)\n",
        "image=cv2.resize(image, (128,128), interpolation = cv2.INTER_AREA)\n",
        "plt.imshow(image)\n",
        "plt.show()\n",
        "# alg = cv2.KAZE_create()\n",
        "#         # Dinding image keypoints\n",
        "# # kps = alg.detect(image)\n",
        "# # print(kps)\n",
        "# #      # Getting first 32 of them. \n",
        "# #         # Number of keypoints is varies depend on image size and color pallet\n",
        "# #         # Sorting them based on keypoint response value(bigger is better)\n",
        "# # kps = sorted(kps, key=lambda x: -x.response)[:25]\n",
        "# #       # computing descriptors vector\n",
        "# # kps, dsc = alg.compute(image, kps)\n",
        "# kps, dsc = alg.detectAndCompute(image, None)\n",
        "# print(kps)\n",
        "#         # Flatten all of them in one big vector - our feature vector\n",
        "# dsc = dsc.flatten()\n",
        "\n",
        "sift = cv2.xfeatures2d.SIFT_create()\n",
        "        # Dinding image keypoints\n",
        "keypoints, dsc = sift.detectAndCompute(image, None)\n",
        "        # Getting first 32 of them. \n",
        "        # Number of keypoints is varies depend on image size and color pallet\n",
        "        # Sorting them based on keypoint response value(bigger is better)\n",
        "        # kps = sorted(kps, key=lambda x: -x.response)[:vector_size]\n",
        "        # # computing descriptors vector\n",
        "        # kps, dsc = alg.compute(image, kps)\n",
        "        # Flatten all of them in one big vector - our feature vector\n",
        "dsc = dsc.flatten()\n",
        "        \n",
        "print(dsc.shape)       \n",
        "# extract_features(x,20)"
      ]
    },
    {
      "cell_type": "code",
      "execution_count": null,
      "metadata": {
        "colab": {
          "base_uri": "https://localhost:8080/",
          "height": 1000
        },
        "id": "cbEhpWT1_IRe",
        "outputId": "4c1d85de-8ecf-4309-df55-195b6eaf2f34"
      },
      "outputs": [
        {
          "output_type": "execute_result",
          "data": {
            "text/plain": [
              "                 alias                      username  \\\n",
              "0           1misssmeis  Sylvie Meis Official Account   \n",
              "1           1misssmeis  Sylvie Meis Official Account   \n",
              "2           1misssmeis  Sylvie Meis Official Account   \n",
              "3               3ala2o                  Alaa Ebrahim   \n",
              "4               3ala2o                  Alaa Ebrahim   \n",
              "..                 ...                           ...   \n",
              "145  anniethorisdottir            Annie Thorisdottir   \n",
              "146  anniethorisdottir            Annie Thorisdottir   \n",
              "147  anniethorisdottir            Annie Thorisdottir   \n",
              "148            annijor                 A N N I J O R   \n",
              "149           anniksas                   A N N I K A   \n",
              "\n",
              "                                    descriptionProfile  \\\n",
              "0    [\"TV Host Let's Dance for RTL Germany / SBS6 /...   \n",
              "1    [\"TV Host Let's Dance for RTL Germany / SBS6 /...   \n",
              "2    [\"TV Host Let's Dance for RTL Germany / SBS6 /...   \n",
              "3    ['Youtuber/Gamer/Vlogger/Business owner . Snap...   \n",
              "4    ['Youtuber/Gamer/Vlogger/Business owner . Snap...   \n",
              "..                                                 ...   \n",
              "145  ['2xFittest woman CrossFit Games - 7x Games co...   \n",
              "146  ['2xFittest woman CrossFit Games - 7x Games co...   \n",
              "147  ['2xFittest woman CrossFit Games - 7x Games co...   \n",
              "148  ['Blogger & participant in the 🏆 winning Sweat...   \n",
              "149  ['► Finland ► annika.anniksas@gmail.com ► Snap...   \n",
              "\n",
              "                                         website  numberPosts  \\\n",
              "0                              www.sylviemeis.de          988   \n",
              "1                              www.sylviemeis.de          988   \n",
              "2                              www.sylviemeis.de          988   \n",
              "3            www.youtube.com/watch?v=MXkqzeIlhSQ          938   \n",
              "4            www.youtube.com/watch?v=MXkqzeIlhSQ          938   \n",
              "..                                           ...          ...   \n",
              "145  www.roguefitness.com/rogue-dottir-shirt-red         1134   \n",
              "146  www.roguefitness.com/rogue-dottir-shirt-red         1134   \n",
              "147  www.roguefitness.com/rogue-dottir-shirt-red         1134   \n",
              "148                               WWW.ANNIJOR.NO         1541   \n",
              "149                         youtu.be/-34XcEx2TOc         1038   \n",
              "\n",
              "     numberFollowers  numberFollowing  private  isVideo  multipleImage  ...  \\\n",
              "0             720979              233        0        0              0  ...   \n",
              "1             720979              233        0        0              0  ...   \n",
              "2             720979              233        0        0              0  ...   \n",
              "3             792886              466        0        0              0  ...   \n",
              "4             792886              466        0        0              0  ...   \n",
              "..               ...              ...      ...      ...            ...  ...   \n",
              "145           610790              372        0        0              0  ...   \n",
              "146           610790              372        0        0              0  ...   \n",
              "147           610790              372        0        0              0  ...   \n",
              "148           196955              498        0        0              0  ...   \n",
              "149           129147              210        0        0              0  ...   \n",
              "\n",
              "                  localization                      date numberLikes  \\\n",
              "0                          NaN  2017-04-27T05:00:00.000Z       11227   \n",
              "1                          NaN  2017-04-29T05:00:00.000Z       10047   \n",
              "2                          NaN  2017-04-29T05:00:00.000Z       16781   \n",
              "3                          NaN  2017-04-18T05:00:00.000Z        9132   \n",
              "4                          NaN  2017-04-24T05:00:00.000Z        6000   \n",
              "..                         ...                       ...         ...   \n",
              "145                        NaN  2017-04-25T05:00:00.000Z       14646   \n",
              "146  Power Monkey Fitness Camp  2017-04-28T05:00:00.000Z        9534   \n",
              "147                        NaN  2017-04-30T05:00:00.000Z        6142   \n",
              "148            Berlin, Germany  2017-04-27T05:00:00.000Z        7600   \n",
              "149                        NaN  2017-04-21T05:00:00.000Z        7850   \n",
              "\n",
              "                                              filename avgPrevious10Likes  \\\n",
              "0    18096206_126240614590026_6106733145975947264_n...       19881.545455   \n",
              "1    18161288_472089323136061_5128727096486526976_n...       17773.272727   \n",
              "2    18161312_678529115665252_1780327406628765696_n...       19516.090909   \n",
              "3    18011549_494145874042829_5968002476794707968_n...        8919.545455   \n",
              "4    18013785_1299726350135511_3450110605690667008_...        9201.545455   \n",
              "..                                                 ...                ...   \n",
              "145  18094547_122959491586714_6771182629824757760_n...       10609.454545   \n",
              "146  18096488_815146428637183_6765417688496865280_n...       12276.545455   \n",
              "147  18252515_215205378979861_7878266405202690048_n...       12425.363636   \n",
              "148  18094894_1920973321467098_8811902165464383488_...        5906.818182   \n",
              "149  18013576_1907250829522199_1714339958589751296_...        6969.727273   \n",
              "\n",
              "     stdPrevious10Likes avgPrevious3Likes  stdPrevious3Likes  avgPostsWeekly  \\\n",
              "0           8586.574056          13742.00        5156.535691        5.526316   \n",
              "1           7503.863008          12386.75        5161.117838        5.666667   \n",
              "2           9014.520102          13455.00        5818.683958        5.333333   \n",
              "3           3214.840665           5660.75        3003.871557        2.234043   \n",
              "4           2948.003884           5195.75        1941.644750        2.113208   \n",
              "..                  ...               ...                ...             ...   \n",
              "145         4431.999905           6900.50        2403.343574        4.083333   \n",
              "146         5754.950001          11327.75        8790.440053        4.148148   \n",
              "147         5598.897361          12073.50        7397.656926        4.103448   \n",
              "148         1622.645936           5105.25         293.954078        5.833333   \n",
              "149         1155.922724           4959.25         447.538080        8.076923   \n",
              "\n",
              "                                          Img_features  \n",
              "0    [-0.0022796064, -0.01772908, 0.004716303, 0.01...  \n",
              "1    [0.010708737, -0.002379996, 0.0108076325, 0.00...  \n",
              "2    [-0.06964842, -0.021704432, 0.105519995, 0.114...  \n",
              "3    [-0.014947882, 0.00809253, 0.08698873, 0.11504...  \n",
              "4    [0.00079084275, 0.0023439587, 0.0029687395, 0....  \n",
              "..                                                 ...  \n",
              "145  [-0.010673616, -0.03182072, 0.025104638, 0.053...  \n",
              "146  [0.06368259, 0.02177692, 0.0646092, 0.02635039...  \n",
              "147  [0.04004135, 0.029714676, 0.05821684, 0.038638...  \n",
              "148  [0.0038931372, 0.00077423954, 0.009197945, 0.0...  \n",
              "149  [-0.025837248, 0.02881084, 0.12700917, 0.16262...  \n",
              "\n",
              "[150 rows x 23 columns]"
            ],
            "text/html": [
              "\n",
              "  <div id=\"df-2786ffdb-64f4-49e6-86cf-d4dc0ca3e3f5\">\n",
              "    <div class=\"colab-df-container\">\n",
              "      <div>\n",
              "<style scoped>\n",
              "    .dataframe tbody tr th:only-of-type {\n",
              "        vertical-align: middle;\n",
              "    }\n",
              "\n",
              "    .dataframe tbody tr th {\n",
              "        vertical-align: top;\n",
              "    }\n",
              "\n",
              "    .dataframe thead th {\n",
              "        text-align: right;\n",
              "    }\n",
              "</style>\n",
              "<table border=\"1\" class=\"dataframe\">\n",
              "  <thead>\n",
              "    <tr style=\"text-align: right;\">\n",
              "      <th></th>\n",
              "      <th>alias</th>\n",
              "      <th>username</th>\n",
              "      <th>descriptionProfile</th>\n",
              "      <th>website</th>\n",
              "      <th>numberPosts</th>\n",
              "      <th>numberFollowers</th>\n",
              "      <th>numberFollowing</th>\n",
              "      <th>private</th>\n",
              "      <th>isVideo</th>\n",
              "      <th>multipleImage</th>\n",
              "      <th>...</th>\n",
              "      <th>localization</th>\n",
              "      <th>date</th>\n",
              "      <th>numberLikes</th>\n",
              "      <th>filename</th>\n",
              "      <th>avgPrevious10Likes</th>\n",
              "      <th>stdPrevious10Likes</th>\n",
              "      <th>avgPrevious3Likes</th>\n",
              "      <th>stdPrevious3Likes</th>\n",
              "      <th>avgPostsWeekly</th>\n",
              "      <th>Img_features</th>\n",
              "    </tr>\n",
              "  </thead>\n",
              "  <tbody>\n",
              "    <tr>\n",
              "      <th>0</th>\n",
              "      <td>1misssmeis</td>\n",
              "      <td>Sylvie Meis Official Account</td>\n",
              "      <td>[\"TV Host Let's Dance for RTL Germany / SBS6 /...</td>\n",
              "      <td>www.sylviemeis.de</td>\n",
              "      <td>988</td>\n",
              "      <td>720979</td>\n",
              "      <td>233</td>\n",
              "      <td>0</td>\n",
              "      <td>0</td>\n",
              "      <td>0</td>\n",
              "      <td>...</td>\n",
              "      <td>NaN</td>\n",
              "      <td>2017-04-27T05:00:00.000Z</td>\n",
              "      <td>11227</td>\n",
              "      <td>18096206_126240614590026_6106733145975947264_n...</td>\n",
              "      <td>19881.545455</td>\n",
              "      <td>8586.574056</td>\n",
              "      <td>13742.00</td>\n",
              "      <td>5156.535691</td>\n",
              "      <td>5.526316</td>\n",
              "      <td>[-0.0022796064, -0.01772908, 0.004716303, 0.01...</td>\n",
              "    </tr>\n",
              "    <tr>\n",
              "      <th>1</th>\n",
              "      <td>1misssmeis</td>\n",
              "      <td>Sylvie Meis Official Account</td>\n",
              "      <td>[\"TV Host Let's Dance for RTL Germany / SBS6 /...</td>\n",
              "      <td>www.sylviemeis.de</td>\n",
              "      <td>988</td>\n",
              "      <td>720979</td>\n",
              "      <td>233</td>\n",
              "      <td>0</td>\n",
              "      <td>0</td>\n",
              "      <td>0</td>\n",
              "      <td>...</td>\n",
              "      <td>NaN</td>\n",
              "      <td>2017-04-29T05:00:00.000Z</td>\n",
              "      <td>10047</td>\n",
              "      <td>18161288_472089323136061_5128727096486526976_n...</td>\n",
              "      <td>17773.272727</td>\n",
              "      <td>7503.863008</td>\n",
              "      <td>12386.75</td>\n",
              "      <td>5161.117838</td>\n",
              "      <td>5.666667</td>\n",
              "      <td>[0.010708737, -0.002379996, 0.0108076325, 0.00...</td>\n",
              "    </tr>\n",
              "    <tr>\n",
              "      <th>2</th>\n",
              "      <td>1misssmeis</td>\n",
              "      <td>Sylvie Meis Official Account</td>\n",
              "      <td>[\"TV Host Let's Dance for RTL Germany / SBS6 /...</td>\n",
              "      <td>www.sylviemeis.de</td>\n",
              "      <td>988</td>\n",
              "      <td>720979</td>\n",
              "      <td>233</td>\n",
              "      <td>0</td>\n",
              "      <td>0</td>\n",
              "      <td>0</td>\n",
              "      <td>...</td>\n",
              "      <td>NaN</td>\n",
              "      <td>2017-04-29T05:00:00.000Z</td>\n",
              "      <td>16781</td>\n",
              "      <td>18161312_678529115665252_1780327406628765696_n...</td>\n",
              "      <td>19516.090909</td>\n",
              "      <td>9014.520102</td>\n",
              "      <td>13455.00</td>\n",
              "      <td>5818.683958</td>\n",
              "      <td>5.333333</td>\n",
              "      <td>[-0.06964842, -0.021704432, 0.105519995, 0.114...</td>\n",
              "    </tr>\n",
              "    <tr>\n",
              "      <th>3</th>\n",
              "      <td>3ala2o</td>\n",
              "      <td>Alaa Ebrahim</td>\n",
              "      <td>['Youtuber/Gamer/Vlogger/Business owner . Snap...</td>\n",
              "      <td>www.youtube.com/watch?v=MXkqzeIlhSQ</td>\n",
              "      <td>938</td>\n",
              "      <td>792886</td>\n",
              "      <td>466</td>\n",
              "      <td>0</td>\n",
              "      <td>0</td>\n",
              "      <td>0</td>\n",
              "      <td>...</td>\n",
              "      <td>NaN</td>\n",
              "      <td>2017-04-18T05:00:00.000Z</td>\n",
              "      <td>9132</td>\n",
              "      <td>18011549_494145874042829_5968002476794707968_n...</td>\n",
              "      <td>8919.545455</td>\n",
              "      <td>3214.840665</td>\n",
              "      <td>5660.75</td>\n",
              "      <td>3003.871557</td>\n",
              "      <td>2.234043</td>\n",
              "      <td>[-0.014947882, 0.00809253, 0.08698873, 0.11504...</td>\n",
              "    </tr>\n",
              "    <tr>\n",
              "      <th>4</th>\n",
              "      <td>3ala2o</td>\n",
              "      <td>Alaa Ebrahim</td>\n",
              "      <td>['Youtuber/Gamer/Vlogger/Business owner . Snap...</td>\n",
              "      <td>www.youtube.com/watch?v=MXkqzeIlhSQ</td>\n",
              "      <td>938</td>\n",
              "      <td>792886</td>\n",
              "      <td>466</td>\n",
              "      <td>0</td>\n",
              "      <td>0</td>\n",
              "      <td>0</td>\n",
              "      <td>...</td>\n",
              "      <td>NaN</td>\n",
              "      <td>2017-04-24T05:00:00.000Z</td>\n",
              "      <td>6000</td>\n",
              "      <td>18013785_1299726350135511_3450110605690667008_...</td>\n",
              "      <td>9201.545455</td>\n",
              "      <td>2948.003884</td>\n",
              "      <td>5195.75</td>\n",
              "      <td>1941.644750</td>\n",
              "      <td>2.113208</td>\n",
              "      <td>[0.00079084275, 0.0023439587, 0.0029687395, 0....</td>\n",
              "    </tr>\n",
              "    <tr>\n",
              "      <th>...</th>\n",
              "      <td>...</td>\n",
              "      <td>...</td>\n",
              "      <td>...</td>\n",
              "      <td>...</td>\n",
              "      <td>...</td>\n",
              "      <td>...</td>\n",
              "      <td>...</td>\n",
              "      <td>...</td>\n",
              "      <td>...</td>\n",
              "      <td>...</td>\n",
              "      <td>...</td>\n",
              "      <td>...</td>\n",
              "      <td>...</td>\n",
              "      <td>...</td>\n",
              "      <td>...</td>\n",
              "      <td>...</td>\n",
              "      <td>...</td>\n",
              "      <td>...</td>\n",
              "      <td>...</td>\n",
              "      <td>...</td>\n",
              "      <td>...</td>\n",
              "    </tr>\n",
              "    <tr>\n",
              "      <th>145</th>\n",
              "      <td>anniethorisdottir</td>\n",
              "      <td>Annie Thorisdottir</td>\n",
              "      <td>['2xFittest woman CrossFit Games - 7x Games co...</td>\n",
              "      <td>www.roguefitness.com/rogue-dottir-shirt-red</td>\n",
              "      <td>1134</td>\n",
              "      <td>610790</td>\n",
              "      <td>372</td>\n",
              "      <td>0</td>\n",
              "      <td>0</td>\n",
              "      <td>0</td>\n",
              "      <td>...</td>\n",
              "      <td>NaN</td>\n",
              "      <td>2017-04-25T05:00:00.000Z</td>\n",
              "      <td>14646</td>\n",
              "      <td>18094547_122959491586714_6771182629824757760_n...</td>\n",
              "      <td>10609.454545</td>\n",
              "      <td>4431.999905</td>\n",
              "      <td>6900.50</td>\n",
              "      <td>2403.343574</td>\n",
              "      <td>4.083333</td>\n",
              "      <td>[-0.010673616, -0.03182072, 0.025104638, 0.053...</td>\n",
              "    </tr>\n",
              "    <tr>\n",
              "      <th>146</th>\n",
              "      <td>anniethorisdottir</td>\n",
              "      <td>Annie Thorisdottir</td>\n",
              "      <td>['2xFittest woman CrossFit Games - 7x Games co...</td>\n",
              "      <td>www.roguefitness.com/rogue-dottir-shirt-red</td>\n",
              "      <td>1134</td>\n",
              "      <td>610790</td>\n",
              "      <td>372</td>\n",
              "      <td>0</td>\n",
              "      <td>0</td>\n",
              "      <td>0</td>\n",
              "      <td>...</td>\n",
              "      <td>Power Monkey Fitness Camp</td>\n",
              "      <td>2017-04-28T05:00:00.000Z</td>\n",
              "      <td>9534</td>\n",
              "      <td>18096488_815146428637183_6765417688496865280_n...</td>\n",
              "      <td>12276.545455</td>\n",
              "      <td>5754.950001</td>\n",
              "      <td>11327.75</td>\n",
              "      <td>8790.440053</td>\n",
              "      <td>4.148148</td>\n",
              "      <td>[0.06368259, 0.02177692, 0.0646092, 0.02635039...</td>\n",
              "    </tr>\n",
              "    <tr>\n",
              "      <th>147</th>\n",
              "      <td>anniethorisdottir</td>\n",
              "      <td>Annie Thorisdottir</td>\n",
              "      <td>['2xFittest woman CrossFit Games - 7x Games co...</td>\n",
              "      <td>www.roguefitness.com/rogue-dottir-shirt-red</td>\n",
              "      <td>1134</td>\n",
              "      <td>610790</td>\n",
              "      <td>372</td>\n",
              "      <td>0</td>\n",
              "      <td>0</td>\n",
              "      <td>0</td>\n",
              "      <td>...</td>\n",
              "      <td>NaN</td>\n",
              "      <td>2017-04-30T05:00:00.000Z</td>\n",
              "      <td>6142</td>\n",
              "      <td>18252515_215205378979861_7878266405202690048_n...</td>\n",
              "      <td>12425.363636</td>\n",
              "      <td>5598.897361</td>\n",
              "      <td>12073.50</td>\n",
              "      <td>7397.656926</td>\n",
              "      <td>4.103448</td>\n",
              "      <td>[0.04004135, 0.029714676, 0.05821684, 0.038638...</td>\n",
              "    </tr>\n",
              "    <tr>\n",
              "      <th>148</th>\n",
              "      <td>annijor</td>\n",
              "      <td>A N N I J O R</td>\n",
              "      <td>['Blogger &amp; participant in the 🏆 winning Sweat...</td>\n",
              "      <td>WWW.ANNIJOR.NO</td>\n",
              "      <td>1541</td>\n",
              "      <td>196955</td>\n",
              "      <td>498</td>\n",
              "      <td>0</td>\n",
              "      <td>0</td>\n",
              "      <td>0</td>\n",
              "      <td>...</td>\n",
              "      <td>Berlin, Germany</td>\n",
              "      <td>2017-04-27T05:00:00.000Z</td>\n",
              "      <td>7600</td>\n",
              "      <td>18094894_1920973321467098_8811902165464383488_...</td>\n",
              "      <td>5906.818182</td>\n",
              "      <td>1622.645936</td>\n",
              "      <td>5105.25</td>\n",
              "      <td>293.954078</td>\n",
              "      <td>5.833333</td>\n",
              "      <td>[0.0038931372, 0.00077423954, 0.009197945, 0.0...</td>\n",
              "    </tr>\n",
              "    <tr>\n",
              "      <th>149</th>\n",
              "      <td>anniksas</td>\n",
              "      <td>A N N I K A</td>\n",
              "      <td>['► Finland ► annika.anniksas@gmail.com ► Snap...</td>\n",
              "      <td>youtu.be/-34XcEx2TOc</td>\n",
              "      <td>1038</td>\n",
              "      <td>129147</td>\n",
              "      <td>210</td>\n",
              "      <td>0</td>\n",
              "      <td>0</td>\n",
              "      <td>0</td>\n",
              "      <td>...</td>\n",
              "      <td>NaN</td>\n",
              "      <td>2017-04-21T05:00:00.000Z</td>\n",
              "      <td>7850</td>\n",
              "      <td>18013576_1907250829522199_1714339958589751296_...</td>\n",
              "      <td>6969.727273</td>\n",
              "      <td>1155.922724</td>\n",
              "      <td>4959.25</td>\n",
              "      <td>447.538080</td>\n",
              "      <td>8.076923</td>\n",
              "      <td>[-0.025837248, 0.02881084, 0.12700917, 0.16262...</td>\n",
              "    </tr>\n",
              "  </tbody>\n",
              "</table>\n",
              "<p>150 rows × 23 columns</p>\n",
              "</div>\n",
              "      <button class=\"colab-df-convert\" onclick=\"convertToInteractive('df-2786ffdb-64f4-49e6-86cf-d4dc0ca3e3f5')\"\n",
              "              title=\"Convert this dataframe to an interactive table.\"\n",
              "              style=\"display:none;\">\n",
              "        \n",
              "  <svg xmlns=\"http://www.w3.org/2000/svg\" height=\"24px\"viewBox=\"0 0 24 24\"\n",
              "       width=\"24px\">\n",
              "    <path d=\"M0 0h24v24H0V0z\" fill=\"none\"/>\n",
              "    <path d=\"M18.56 5.44l.94 2.06.94-2.06 2.06-.94-2.06-.94-.94-2.06-.94 2.06-2.06.94zm-11 1L8.5 8.5l.94-2.06 2.06-.94-2.06-.94L8.5 2.5l-.94 2.06-2.06.94zm10 10l.94 2.06.94-2.06 2.06-.94-2.06-.94-.94-2.06-.94 2.06-2.06.94z\"/><path d=\"M17.41 7.96l-1.37-1.37c-.4-.4-.92-.59-1.43-.59-.52 0-1.04.2-1.43.59L10.3 9.45l-7.72 7.72c-.78.78-.78 2.05 0 2.83L4 21.41c.39.39.9.59 1.41.59.51 0 1.02-.2 1.41-.59l7.78-7.78 2.81-2.81c.8-.78.8-2.07 0-2.86zM5.41 20L4 18.59l7.72-7.72 1.47 1.35L5.41 20z\"/>\n",
              "  </svg>\n",
              "      </button>\n",
              "      \n",
              "  <style>\n",
              "    .colab-df-container {\n",
              "      display:flex;\n",
              "      flex-wrap:wrap;\n",
              "      gap: 12px;\n",
              "    }\n",
              "\n",
              "    .colab-df-convert {\n",
              "      background-color: #E8F0FE;\n",
              "      border: none;\n",
              "      border-radius: 50%;\n",
              "      cursor: pointer;\n",
              "      display: none;\n",
              "      fill: #1967D2;\n",
              "      height: 32px;\n",
              "      padding: 0 0 0 0;\n",
              "      width: 32px;\n",
              "    }\n",
              "\n",
              "    .colab-df-convert:hover {\n",
              "      background-color: #E2EBFA;\n",
              "      box-shadow: 0px 1px 2px rgba(60, 64, 67, 0.3), 0px 1px 3px 1px rgba(60, 64, 67, 0.15);\n",
              "      fill: #174EA6;\n",
              "    }\n",
              "\n",
              "    [theme=dark] .colab-df-convert {\n",
              "      background-color: #3B4455;\n",
              "      fill: #D2E3FC;\n",
              "    }\n",
              "\n",
              "    [theme=dark] .colab-df-convert:hover {\n",
              "      background-color: #434B5C;\n",
              "      box-shadow: 0px 1px 3px 1px rgba(0, 0, 0, 0.15);\n",
              "      filter: drop-shadow(0px 1px 2px rgba(0, 0, 0, 0.3));\n",
              "      fill: #FFFFFF;\n",
              "    }\n",
              "  </style>\n",
              "\n",
              "      <script>\n",
              "        const buttonEl =\n",
              "          document.querySelector('#df-2786ffdb-64f4-49e6-86cf-d4dc0ca3e3f5 button.colab-df-convert');\n",
              "        buttonEl.style.display =\n",
              "          google.colab.kernel.accessAllowed ? 'block' : 'none';\n",
              "\n",
              "        async function convertToInteractive(key) {\n",
              "          const element = document.querySelector('#df-2786ffdb-64f4-49e6-86cf-d4dc0ca3e3f5');\n",
              "          const dataTable =\n",
              "            await google.colab.kernel.invokeFunction('convertToInteractive',\n",
              "                                                     [key], {});\n",
              "          if (!dataTable) return;\n",
              "\n",
              "          const docLinkHtml = 'Like what you see? Visit the ' +\n",
              "            '<a target=\"_blank\" href=https://colab.research.google.com/notebooks/data_table.ipynb>data table notebook</a>'\n",
              "            + ' to learn more about interactive tables.';\n",
              "          element.innerHTML = '';\n",
              "          dataTable['output_type'] = 'display_data';\n",
              "          await google.colab.output.renderOutput(dataTable, element);\n",
              "          const docLink = document.createElement('div');\n",
              "          docLink.innerHTML = docLinkHtml;\n",
              "          element.appendChild(docLink);\n",
              "        }\n",
              "      </script>\n",
              "    </div>\n",
              "  </div>\n",
              "  "
            ]
          },
          "metadata": {},
          "execution_count": 165
        }
      ],
      "source": [
        "df"
      ]
    },
    {
      "cell_type": "markdown",
      "source": [
        "Feature Extraction"
      ],
      "metadata": {
        "id": "tmfTrmBpWEj3"
      }
    },
    {
      "cell_type": "code",
      "execution_count": null,
      "metadata": {
        "colab": {
          "base_uri": "https://localhost:8080/"
        },
        "id": "YfgwtsOKA3-g",
        "outputId": "7ef56fa5-ee89-46c9-f326-8d741ab94095"
      },
      "outputs": [
        {
          "output_type": "stream",
          "name": "stdout",
          "text": [
            "[2. 1. 3. ... 1. 2. 0.]\n",
            "[4. 7. 8. ... 4. 7. 8.]\n",
            "<class 'pandas.core.frame.DataFrame'>\n",
            "RangeIndex: 1016 entries, 0 to 1015\n",
            "Data columns (total 12 columns):\n",
            " #   Column              Non-Null Count  Dtype  \n",
            "---  ------              --------------  -----  \n",
            " 0   filename            1016 non-null   object \n",
            " 1   numberPosts         1016 non-null   int64  \n",
            " 2   numberFollowers     1016 non-null   int64  \n",
            " 3   numberFollowing     1016 non-null   int64  \n",
            " 4   avgPrevious10Likes  1016 non-null   float64\n",
            " 5   avgPrevious3Likes   1016 non-null   float64\n",
            " 6   stdPrevious10Likes  1016 non-null   float64\n",
            " 7   stdPrevious3Likes   1016 non-null   float64\n",
            " 8   avgPostsWeekly      1016 non-null   float64\n",
            " 9   numberLikes         1016 non-null   int64  \n",
            " 10  numTags             1016 non-null   float64\n",
            " 11  numMentions         1016 non-null   float64\n",
            "dtypes: float64(7), int64(4), object(1)\n",
            "memory usage: 95.4+ KB\n"
          ]
        },
        {
          "output_type": "stream",
          "name": "stderr",
          "text": [
            "/usr/local/lib/python3.7/dist-packages/ipykernel_launcher.py:14: SettingWithCopyWarning: \n",
            "A value is trying to be set on a copy of a slice from a DataFrame.\n",
            "Try using .loc[row_indexer,col_indexer] = value instead\n",
            "\n",
            "See the caveats in the documentation: https://pandas.pydata.org/pandas-docs/stable/user_guide/indexing.html#returning-a-view-versus-a-copy\n",
            "  \n",
            "/usr/local/lib/python3.7/dist-packages/ipykernel_launcher.py:15: SettingWithCopyWarning: \n",
            "A value is trying to be set on a copy of a slice from a DataFrame.\n",
            "Try using .loc[row_indexer,col_indexer] = value instead\n",
            "\n",
            "See the caveats in the documentation: https://pandas.pydata.org/pandas-docs/stable/user_guide/indexing.html#returning-a-view-versus-a-copy\n",
            "  from ipykernel import kernelapp as app\n"
          ]
        }
      ],
      "source": [
        "tags = df['tags'].to_numpy()\n",
        "mentions = df['mentions'].to_numpy()\n",
        "countHash = np.ndarray(len(tags))\n",
        "countMention = np.ndarray(len(mentions))\n",
        "for i in range(len(tags)):\n",
        "  countHash[i] = tags[i].count('#')\n",
        "  countMention[i] = mentions[i].count('@')\n",
        "print(countHash)\n",
        "print(countMention)\n",
        "\n",
        "# Adding these to our df\n",
        "df['countHash'] = countHash\n",
        "df['countMention'] = countMention\n",
        "dfForexport['numTags'] = countHash\n",
        "dfForexport['numMentions'] = countMention\n",
        "dfForexport.info()"
      ]
    },
    {
      "cell_type": "code",
      "execution_count": null,
      "metadata": {
        "id": "ngq-gIC4nuLd",
        "colab": {
          "base_uri": "https://localhost:8080/"
        },
        "outputId": "f6bc05e8-8e6e-4919-fd83-7b5bbe4d3a67"
      },
      "outputs": [
        {
          "output_type": "stream",
          "name": "stdout",
          "text": [
            "[5. 7. 7. ... 3. 1. 7.]\n",
            "1016\n",
            "<class 'pandas.core.frame.DataFrame'>\n",
            "RangeIndex: 1016 entries, 0 to 1015\n",
            "Data columns (total 13 columns):\n",
            " #   Column              Non-Null Count  Dtype  \n",
            "---  ------              --------------  -----  \n",
            " 0   filename            1016 non-null   object \n",
            " 1   numberPosts         1016 non-null   int64  \n",
            " 2   numberFollowers     1016 non-null   int64  \n",
            " 3   numberFollowing     1016 non-null   int64  \n",
            " 4   avgPrevious10Likes  1016 non-null   float64\n",
            " 5   avgPrevious3Likes   1016 non-null   float64\n",
            " 6   stdPrevious10Likes  1016 non-null   float64\n",
            " 7   stdPrevious3Likes   1016 non-null   float64\n",
            " 8   avgPostsWeekly      1016 non-null   float64\n",
            " 9   numberLikes         1016 non-null   int64  \n",
            " 10  numTags             1016 non-null   float64\n",
            " 11  numMentions         1016 non-null   float64\n",
            " 12  day                 1016 non-null   float64\n",
            "dtypes: float64(8), int64(4), object(1)\n",
            "memory usage: 103.3+ KB\n"
          ]
        },
        {
          "output_type": "stream",
          "name": "stderr",
          "text": [
            "/usr/local/lib/python3.7/dist-packages/ipykernel_launcher.py:16: SettingWithCopyWarning: \n",
            "A value is trying to be set on a copy of a slice from a DataFrame.\n",
            "Try using .loc[row_indexer,col_indexer] = value instead\n",
            "\n",
            "See the caveats in the documentation: https://pandas.pydata.org/pandas-docs/stable/user_guide/indexing.html#returning-a-view-versus-a-copy\n",
            "  app.launch_new_instance()\n"
          ]
        }
      ],
      "source": [
        "from datetime import date\n",
        "import calendar\n",
        "import datetime\n",
        "\n",
        "Date = df['date'].to_numpy()\n",
        "\n",
        "Days = {'Sunday':1,'Monday':2,'Tuesday':3,'Wednesday':4,'Thursday':5,'Friday':6,'Saturday':7}\n",
        "DAY = np.ndarray(len(Date))\n",
        "for i in range(len(Date)):\n",
        "    y = Date[i][:10]\n",
        "    x = datetime.datetime.strptime(y, '%Y-%m-%d').strftime('%A')\n",
        "    DAY[i] = Days[x]\n",
        "print(DAY)\n",
        "print(len(DAY))\n",
        "df['dayPosted'] = DAY\n",
        "dfForexport['day'] = DAY\n",
        "dfForexport.info()"
      ]
    },
    {
      "cell_type": "code",
      "execution_count": null,
      "metadata": {
        "colab": {
          "base_uri": "https://localhost:8080/"
        },
        "id": "P3vZ3DGhknnP",
        "outputId": "45a097e3-9f23-4ce1-89f9-bea2aeb31680"
      },
      "outputs": [
        {
          "output_type": "stream",
          "name": "stdout",
          "text": [
            "[0. 0. 0. ... 1. 1. 1.]\n",
            "<class 'pandas.core.frame.DataFrame'>\n",
            "RangeIndex: 1016 entries, 0 to 1015\n",
            "Data columns (total 14 columns):\n",
            " #   Column              Non-Null Count  Dtype  \n",
            "---  ------              --------------  -----  \n",
            " 0   filename            1016 non-null   object \n",
            " 1   numberPosts         1016 non-null   int64  \n",
            " 2   numberFollowers     1016 non-null   int64  \n",
            " 3   numberFollowing     1016 non-null   int64  \n",
            " 4   avgPrevious10Likes  1016 non-null   float64\n",
            " 5   avgPrevious3Likes   1016 non-null   float64\n",
            " 6   stdPrevious10Likes  1016 non-null   float64\n",
            " 7   stdPrevious3Likes   1016 non-null   float64\n",
            " 8   avgPostsWeekly      1016 non-null   float64\n",
            " 9   numberLikes         1016 non-null   int64  \n",
            " 10  numTags             1016 non-null   float64\n",
            " 11  numMentions         1016 non-null   float64\n",
            " 12  day                 1016 non-null   float64\n",
            " 13  location            1016 non-null   float64\n",
            "dtypes: float64(9), int64(4), object(1)\n",
            "memory usage: 111.2+ KB\n"
          ]
        },
        {
          "output_type": "stream",
          "name": "stderr",
          "text": [
            "/usr/local/lib/python3.7/dist-packages/ipykernel_launcher.py:10: SettingWithCopyWarning: \n",
            "A value is trying to be set on a copy of a slice from a DataFrame.\n",
            "Try using .loc[row_indexer,col_indexer] = value instead\n",
            "\n",
            "See the caveats in the documentation: https://pandas.pydata.org/pandas-docs/stable/user_guide/indexing.html#returning-a-view-versus-a-copy\n",
            "  # Remove the CWD from sys.path while we load stuff.\n"
          ]
        }
      ],
      "source": [
        "x = df['localization'].to_numpy()\n",
        "Location = np.zeros(len(x))\n",
        "for i in range(len(x)):\n",
        "  if type(x[i]) is float:\n",
        "    Location[i] = 0\n",
        "  else:\n",
        "    Location[i] = 1\n",
        "print(Location)\n",
        "df['Location'] = Location\n",
        "dfForexport['location'] = Location\n",
        "dfForexport.info()"
      ]
    },
    {
      "cell_type": "code",
      "execution_count": null,
      "metadata": {
        "colab": {
          "base_uri": "https://localhost:8080/"
        },
        "id": "ITrS8ZU0Chz2",
        "outputId": "235abaae-b761-4f45-b387-a91451855f93"
      },
      "outputs": [
        {
          "output_type": "stream",
          "name": "stdout",
          "text": [
            "[2.75757622 2.46515817 2.70688757 ... 4.89153396 4.96044289 4.92902346]\n",
            "<class 'pandas.core.frame.DataFrame'>\n",
            "RangeIndex: 1016 entries, 0 to 1015\n",
            "Data columns (total 15 columns):\n",
            " #   Column              Non-Null Count  Dtype  \n",
            "---  ------              --------------  -----  \n",
            " 0   filename            1016 non-null   object \n",
            " 1   numberPosts         1016 non-null   int64  \n",
            " 2   numberFollowers     1016 non-null   int64  \n",
            " 3   numberFollowing     1016 non-null   int64  \n",
            " 4   avgPrevious10Likes  1016 non-null   float64\n",
            " 5   avgPrevious3Likes   1016 non-null   float64\n",
            " 6   stdPrevious10Likes  1016 non-null   float64\n",
            " 7   stdPrevious3Likes   1016 non-null   float64\n",
            " 8   avgPostsWeekly      1016 non-null   float64\n",
            " 9   numberLikes         1016 non-null   int64  \n",
            " 10  numTags             1016 non-null   float64\n",
            " 11  numMentions         1016 non-null   float64\n",
            " 12  day                 1016 non-null   float64\n",
            " 13  location            1016 non-null   float64\n",
            " 14  interaction         1016 non-null   float64\n",
            "dtypes: float64(10), int64(4), object(1)\n",
            "memory usage: 119.2+ KB\n"
          ]
        },
        {
          "output_type": "stream",
          "name": "stderr",
          "text": [
            "/usr/local/lib/python3.7/dist-packages/ipykernel_launcher.py:8: SettingWithCopyWarning: \n",
            "A value is trying to be set on a copy of a slice from a DataFrame.\n",
            "Try using .loc[row_indexer,col_indexer] = value instead\n",
            "\n",
            "See the caveats in the documentation: https://pandas.pydata.org/pandas-docs/stable/user_guide/indexing.html#returning-a-view-versus-a-copy\n",
            "  \n"
          ]
        }
      ],
      "source": [
        "numberFollowers = df['numberFollowers'].to_numpy()\n",
        "averageLikes = df['avgPrevious10Likes'].to_numpy()\n",
        "Interaction10 = np.ndarray(len(numberFollowers))\n",
        "for i in range(len(numberFollowers)):\n",
        "  Interaction10[i] = (averageLikes[i]/numberFollowers[i])*100\n",
        "print(Interaction10)\n",
        "df['interactionTop10'] = Interaction10\n",
        "dfForexport['interaction'] = Interaction10\n",
        "dfForexport.info()"
      ]
    },
    {
      "cell_type": "code",
      "source": [
        "numberFollowers = df['numberFollowers'].to_numpy()\n",
        "averageLikes = df['avgPrevious3Likes'].to_numpy()\n",
        "Interaction3 = np.ndarray(len(numberFollowers))\n",
        "for i in range(len(numberFollowers)):\n",
        "  Interaction3[i] = (averageLikes[i]/numberFollowers[i])*1000\n",
        "print(Interaction3)\n",
        "df['interactionTop3'] = Interaction3"
      ],
      "metadata": {
        "colab": {
          "base_uri": "https://localhost:8080/"
        },
        "id": "-evEMI0jOEkF",
        "outputId": "11496161-cefc-4bc3-b496-f8a037b5b0af"
      },
      "execution_count": null,
      "outputs": [
        {
          "output_type": "stream",
          "name": "stdout",
          "text": [
            "[19.06019454 17.18045879 18.66212469  7.13942484  6.55295969  6.71975543\n",
            " 28.46635458 29.1142521  27.26517314  3.68521539  4.07708992  3.66357116\n",
            " 27.06216862 25.20175171 25.14654758 41.76693718 38.58171034 47.11125619\n",
            "  6.21893861  6.44195711  5.1067771  26.3313133  27.46336969 24.65616947\n",
            "  9.33736682  7.38314477  8.95254332  8.59421358  9.33267692  9.86737003\n",
            " 33.54948691 34.57733061 38.43299796  2.68238185  2.99349014  2.74389671\n",
            "  2.51847417  2.10458851  2.62495931  7.07504178  7.93320493  7.48957356\n",
            " 12.52986095 13.47475545 13.10384268 13.97513668 12.84035858  3.39712427\n",
            "  3.09063014  3.15529508 22.35622097 22.16857883 19.50067438  4.47065319\n",
            "  5.78577673  8.09586982 11.24432903 11.70683863 10.92979151 29.26201433\n",
            " 34.69709387 30.26014415 10.51727535 10.05864104  8.11603257 19.21520384\n",
            " 23.41166732 25.21787119 26.51459014 37.51227619 26.7260271  34.79234536\n",
            " 29.73942253 31.35307171 41.3218651  37.67709854 45.1679923  21.81555598\n",
            " 22.04447337 20.27246316  3.26121098  3.27913805  3.27509814  9.02881793\n",
            "  9.45959522  8.85490873 78.06195015 71.30738191 68.68937663 11.25027426\n",
            " 10.97601112 26.7977144  29.4039876  28.8094303  13.5979338  11.07672608\n",
            " 11.51056295 41.66405743 41.81132933 43.39345125  3.711055    3.51621607\n",
            "  4.56447232 19.80196064 16.57609812 21.25917081 19.47394018 20.3586475\n",
            "  9.92491931 10.01075851 13.20969945  4.31728259  3.64483801  3.96782673\n",
            " 19.85470705 17.62442039 18.90088945 32.01229371 18.94570165 18.50017821\n",
            " 18.39500546 41.02687098 44.25050463 38.79652178 17.26427763 11.21935807\n",
            " 17.03731009  6.60265704  7.90454774  5.66174513  4.59339359  4.57896597\n",
            " 17.88391103 21.42406675  9.13227677  9.02676308 15.36813863 13.96849954\n",
            " 17.97607819 13.63721119 13.44086022 12.43332542 25.11922999 24.21107609\n",
            " 25.14376548 11.29766368 18.5460633  19.76702304 25.92089564 38.40004026]\n"
          ]
        }
      ]
    },
    {
      "cell_type": "code",
      "source": [
        "bio = df['descriptionProfile'].to_numpy()\n",
        "caption = df['description'].to_numpy()\n",
        "lenbio = np.ndarray(len(bio))*0\n",
        "lencaption = np.ndarray(len(caption))*0\n",
        "for i in range(len(bio)):\n",
        "  if type(bio[i]) is not float:\n",
        "    lenbio[i] = len(bio[i])\n",
        "  if type(caption[i]) is not float:\n",
        "    lencaption[i] = len(caption[i])\n",
        "df['captionLen'] = lencaption\n",
        "df['bioLen'] = lenbio"
      ],
      "metadata": {
        "id": "sUpuDEBE_i8F"
      },
      "execution_count": null,
      "outputs": []
    },
    {
      "cell_type": "code",
      "source": [
        "numberFollowing = df['numberFollowing'].to_numpy()\n",
        "followerFollowingRatio = np.ndarray(len(numberFollowers))\n",
        "for i in range(len(numberFollowers)):\n",
        "  followerFollowingRatio[i] = (numberFollowing[i]/numberFollowers[i])*1000\n",
        "print(followerFollowingRatio)\n",
        "df['followerFollowingRatio'] = followerFollowingRatio\n",
        "dfForexport['followerFollowingRatio'] = followerFollowingRatio\n",
        "dfForexport.info()"
      ],
      "metadata": {
        "colab": {
          "base_uri": "https://localhost:8080/"
        },
        "id": "EbyzNPfu7Ppe",
        "outputId": "363b5ea7-ce68-4463-e6b0-c6486b205972"
      },
      "execution_count": null,
      "outputs": [
        {
          "output_type": "stream",
          "name": "stdout",
          "text": [
            "[0.32317169 0.32317169 0.32317169 ... 0.52923301 0.52923301 0.52923301]\n",
            "<class 'pandas.core.frame.DataFrame'>\n",
            "RangeIndex: 1016 entries, 0 to 1015\n",
            "Data columns (total 16 columns):\n",
            " #   Column                  Non-Null Count  Dtype  \n",
            "---  ------                  --------------  -----  \n",
            " 0   filename                1016 non-null   object \n",
            " 1   numberPosts             1016 non-null   int64  \n",
            " 2   numberFollowers         1016 non-null   int64  \n",
            " 3   numberFollowing         1016 non-null   int64  \n",
            " 4   avgPrevious10Likes      1016 non-null   float64\n",
            " 5   avgPrevious3Likes       1016 non-null   float64\n",
            " 6   stdPrevious10Likes      1016 non-null   float64\n",
            " 7   stdPrevious3Likes       1016 non-null   float64\n",
            " 8   avgPostsWeekly          1016 non-null   float64\n",
            " 9   numberLikes             1016 non-null   int64  \n",
            " 10  numTags                 1016 non-null   float64\n",
            " 11  numMentions             1016 non-null   float64\n",
            " 12  day                     1016 non-null   float64\n",
            " 13  location                1016 non-null   float64\n",
            " 14  interaction             1016 non-null   float64\n",
            " 15  followerFollowingRatio  1016 non-null   float64\n",
            "dtypes: float64(11), int64(4), object(1)\n",
            "memory usage: 127.1+ KB\n"
          ]
        },
        {
          "output_type": "stream",
          "name": "stderr",
          "text": [
            "/usr/local/lib/python3.7/dist-packages/ipykernel_launcher.py:7: SettingWithCopyWarning: \n",
            "A value is trying to be set on a copy of a slice from a DataFrame.\n",
            "Try using .loc[row_indexer,col_indexer] = value instead\n",
            "\n",
            "See the caveats in the documentation: https://pandas.pydata.org/pandas-docs/stable/user_guide/indexing.html#returning-a-view-versus-a-copy\n",
            "  import sys\n"
          ]
        }
      ]
    },
    {
      "cell_type": "code",
      "source": [
        "pip install emoji"
      ],
      "metadata": {
        "colab": {
          "base_uri": "https://localhost:8080/"
        },
        "id": "M9EuYKgMXc0N",
        "outputId": "6389302b-0738-4ff0-dcfe-6ca894493120"
      },
      "execution_count": null,
      "outputs": [
        {
          "output_type": "stream",
          "name": "stdout",
          "text": [
            "Collecting emoji\n",
            "  Downloading emoji-1.7.0.tar.gz (175 kB)\n",
            "\u001b[?25l\r\u001b[K     |█▉                              | 10 kB 28.0 MB/s eta 0:00:01\r\u001b[K     |███▊                            | 20 kB 11.2 MB/s eta 0:00:01\r\u001b[K     |█████▋                          | 30 kB 9.1 MB/s eta 0:00:01\r\u001b[K     |███████▌                        | 40 kB 8.4 MB/s eta 0:00:01\r\u001b[K     |█████████▍                      | 51 kB 4.3 MB/s eta 0:00:01\r\u001b[K     |███████████▏                    | 61 kB 5.1 MB/s eta 0:00:01\r\u001b[K     |█████████████                   | 71 kB 5.5 MB/s eta 0:00:01\r\u001b[K     |███████████████                 | 81 kB 5.6 MB/s eta 0:00:01\r\u001b[K     |████████████████▉               | 92 kB 6.3 MB/s eta 0:00:01\r\u001b[K     |██████████████████▊             | 102 kB 5.1 MB/s eta 0:00:01\r\u001b[K     |████████████████████▌           | 112 kB 5.1 MB/s eta 0:00:01\r\u001b[K     |██████████████████████▍         | 122 kB 5.1 MB/s eta 0:00:01\r\u001b[K     |████████████████████████▎       | 133 kB 5.1 MB/s eta 0:00:01\r\u001b[K     |██████████████████████████▏     | 143 kB 5.1 MB/s eta 0:00:01\r\u001b[K     |████████████████████████████    | 153 kB 5.1 MB/s eta 0:00:01\r\u001b[K     |█████████████████████████████▉  | 163 kB 5.1 MB/s eta 0:00:01\r\u001b[K     |███████████████████████████████▊| 174 kB 5.1 MB/s eta 0:00:01\r\u001b[K     |████████████████████████████████| 175 kB 5.1 MB/s \n",
            "\u001b[?25hBuilding wheels for collected packages: emoji\n",
            "  Building wheel for emoji (setup.py) ... \u001b[?25l\u001b[?25hdone\n",
            "  Created wheel for emoji: filename=emoji-1.7.0-py3-none-any.whl size=171046 sha256=ccaa8eba2f4ff69550f65eac4c99740e4f58edf8e4acaf8d66601eef7c8eff29\n",
            "  Stored in directory: /root/.cache/pip/wheels/8a/4e/b6/57b01db010d17ef6ea9b40300af725ef3e210cb1acfb7ac8b6\n",
            "Successfully built emoji\n",
            "Installing collected packages: emoji\n",
            "Successfully installed emoji-1.7.0\n"
          ]
        }
      ]
    },
    {
      "cell_type": "code",
      "source": [
        "import emoji\n",
        "import regex\n",
        "import re\n",
        "\n",
        "\n",
        "caption = df['description'].to_numpy()\n",
        "EmojiCount = np.ndarray(len(caption))*0\n",
        "\n",
        "for i in range(len(caption)):\n",
        "  if type(caption[i]) is not float:\n",
        "    x = len(re.findall(r'[^\\w\\s,.]', caption[i]))\n",
        "  EmojiCount[i] = x\n",
        "\n",
        "print(EmojiCount)\n",
        "df['emojiCount'] = EmojiCount"
      ],
      "metadata": {
        "colab": {
          "base_uri": "https://localhost:8080/"
        },
        "id": "w6mqEgn0W2ir",
        "outputId": "a511358f-a451-4972-8750-cab5c2f299a3"
      },
      "execution_count": null,
      "outputs": [
        {
          "output_type": "stream",
          "name": "stdout",
          "text": [
            "[24.  7. 16.  2.  2.  3.  2.  2.  2. 25. 29. 29.  3.  5.  7.  1.  0.  2.\n",
            " 16.  4. 14.  3.  1.  1. 13. 13. 13. 32. 30. 31.  1.  0.  1.  1.  2.  7.\n",
            "  3.  4.  5.  4.  7.  5.  5.  3.  5.  2.  7.  1.  5.  7.  7.  6.  5.  3.\n",
            "  6.  5.  3. 41. 25.  0.  6.  4. 14.  6.  5. 12. 10. 15.  5.  5.  2.  8.\n",
            "  6. 11.  3.  3.  0.  1.  0.  0.  8.  0. 10. 45. 32. 30. 30.  0.  1. 18.\n",
            " 17.  0.  0.  3. 26. 35. 17.  1.  4.  4.  2.  7.  5. 31. 32.  3.  1.  3.\n",
            " 12. 12.  1.  2. 11.  6.  5.  5.  5.  9.  5.  5.  2.  8.  8.  7.  6. 12.\n",
            "  6.  5.  2.  4. 13.  2.  0.  7.  4.  3.  1.  5.  4.  1.  0.  1.  2.  3.\n",
            "  8.  8.  9.  5.  3.  2.]\n"
          ]
        }
      ]
    },
    {
      "cell_type": "markdown",
      "source": [
        "Feature Shortlisting"
      ],
      "metadata": {
        "id": "BgSvfpIiWUs7"
      }
    },
    {
      "cell_type": "code",
      "execution_count": null,
      "metadata": {
        "id": "M6fQToky_Jll"
      },
      "outputs": [],
      "source": [
        "# df_use = df[['numberFollowers','numberPosts','numberFollowing','private','isVideo','multipleImage','averageLikes','Img_features','numberLikes']]\n",
        "# df_use = df[['numberFollowers','numberPosts','numberFollowing','avgPreviousLikes','countHash','countMention','Monday','Tuesday','Wednesday','Thursday','Friday','Saturday','Sunday','interaction','Img_features','numberLikes']]\n",
        "\n",
        "# df_use = df[['numberFollowers','numberPosts','numberFollowing','avgPreviousLikes','interaction','countHash','countMention','followerFollowingRatio','Location','avgPostsWeekly','captionLen','bioLen','dayPosted','averageLikes','Img_features','numberLikes']]\n",
        "\n",
        "# df_use = df[['numberFollowers','numberPosts','numberFollowing','avgPrevious10Likes','Img_features','numberLikes']]\n",
        "# df_use = df[['numberFollowers','numberPosts','numberFollowing','stdPrevious10Likes','Img_features','numberLikes']]\n",
        "# df_use = df[['numberFollowers','numberPosts','numberFollowing','interactionTop10','Img_features','numberLikes']]\n",
        "# df_use = df[['numberFollowers','numberPosts','numberFollowing','interactionTop3','Img_features','numberLikes']]\n",
        "# df_use = df[['numberFollowers','numberPosts','numberFollowing','countHash','Img_features','numberLikes']]\n",
        "# df_use = df[['numberFollowers','numberPosts','numberFollowing','countMention','Img_features','numberLikes']]\n",
        "# df_use = df[['numberFollowers','numberPosts','numberFollowing','followerFollowingRatio','Img_features','numberLikes']]\n",
        "# df_use = df[['numberFollowers','numberPosts','numberFollowing','Location','Img_features','numberLikes']]\n",
        "# df_use = df[['numberFollowers','numberPosts','numberFollowing','avgPostsWeekly','Img_features','numberLikes']]\n",
        "# df_use = df[['numberFollowers','numberPosts','numberFollowing','captionLen','Img_features','numberLikes']]\n",
        "# df_use = df[['numberFollowers','numberPosts','numberFollowing','bioLen','Img_features','numberLikes']]\n",
        "# df_use = df[['numberFollowers','numberPosts','numberFollowing','dayPosted','Img_features','numberLikes']]\n",
        "# df_use = df[['numberFollowers','numberPosts','numberFollowing','avgPrevious3Likes','Img_features','numberLikes']]\n",
        "# df_use = df[['numberFollowers','numberPosts','numberFollowing','stdPrevious3Likes','Img_features','numberLikes']]\n",
        "\n",
        "# df_use = df[['numberFollowers','numberPosts','numberFollowing','avgPrevious10Likes','avgPrevious3Likes','stdPrevious10Likes','stdPrevious3Likes','interactionTop10','interactionTop3','countHash','countMention','followerFollowingRatio','Location','avgPostsWeekly','captionLen','bioLen','dayPosted','Img_features','numberLikes']]\n",
        "\n",
        "# df_use = df[['numberFollowers','numberPosts','numberFollowing','avgPrevious10Likes','avgPrevious3Likes','stdPrevious10Likes','stdPrevious3Likes','interactionTop10','interactionTop3','Location','avgPostsWeekly','bioLen','dayPosted','Img_features','numberLikes']]\n",
        "# df_use = df[['numberFollowers','numberPosts','numberFollowing','avgPrevious10Likes','avgPrevious3Likes','stdPrevious10Likes','stdPrevious3Likes','interactionTop10','interactionTop3','avgPostsWeekly','Img_features','numberLikes']]\n",
        "# df_use = df[['numberFollowers','numberPosts','numberFollowing','avgPrevious10Likes','avgPrevious3Likes','avgPostsWeekly','Img_features','numberLikes']]\t\n",
        "\n",
        "# df_use = df[['numberFollowers','numberPosts','numberFollowing','avgPrevious10Likes','avgPrevious3Likes','stdPrevious10Likes','stdPrevious3Likes','countHash','countMention','followerFollowingRatio','Location','avgPostsWeekly','captionLen','bioLen','dayPosted','Img_features','numberLikes']]\n",
        "\n",
        "# df_use = df[['numberFollowers','numberPosts','avgPrevious10Likes','avgPrevious3Likes','stdPrevious10Likes','Img_features','numberLikes']]\n",
        "# df_use = df[['numberFollowers','numberPosts','avgPrevious10Likes','avgPrevious3Likes','Img_features','numberLikes']] \n",
        "\n",
        "# df_use = df[['numberFollowers','numberPosts','numberFollowing','avgPrevious10Likes','avgPrevious3Likes','stdPrevious10Likes','interactionTop10','countHash','avgPostsWeekly','Img_features','numberLikes']]\n",
        "\n",
        "# df_use = df[['numberFollowers','numberPosts','avgPrevious10Likes','avgPrevious3Likes','emojiCount','Img_features','numberLikes']]\t\n",
        "df_use = df[['numberFollowers','numberPosts','avgPrevious10Likes','avgPrevious3Likes','Img_features','numberLikes']]\t"
      ]
    },
    {
      "cell_type": "code",
      "source": [
        "df_use.info()"
      ],
      "metadata": {
        "colab": {
          "base_uri": "https://localhost:8080/"
        },
        "id": "dIsksjmDRtgh",
        "outputId": "580da4f8-6fcd-43d8-a3a7-6e4e5ce0ef8e"
      },
      "execution_count": null,
      "outputs": [
        {
          "output_type": "stream",
          "name": "stdout",
          "text": [
            "<class 'pandas.core.frame.DataFrame'>\n",
            "RangeIndex: 150 entries, 0 to 149\n",
            "Data columns (total 6 columns):\n",
            " #   Column              Non-Null Count  Dtype  \n",
            "---  ------              --------------  -----  \n",
            " 0   numberFollowers     150 non-null    int64  \n",
            " 1   numberPosts         150 non-null    int64  \n",
            " 2   avgPrevious10Likes  150 non-null    float64\n",
            " 3   avgPrevious3Likes   150 non-null    float64\n",
            " 4   Img_features        150 non-null    object \n",
            " 5   numberLikes         150 non-null    int64  \n",
            "dtypes: float64(2), int64(3), object(1)\n",
            "memory usage: 7.2+ KB\n"
          ]
        }
      ]
    },
    {
      "cell_type": "code",
      "execution_count": null,
      "metadata": {
        "id": "C9LJqLI7_4uh"
      },
      "outputs": [],
      "source": [
        "#conversion to X and y\n",
        "X=df_use.iloc[ :,:-1]\n",
        "y=df_use.iloc[:,-1]\n",
        "#converting one feature column to many columns\n",
        "X1 = pd.DataFrame(X['Img_features'].to_list())\n",
        "X=pd.concat([X, X1], axis=1)\n",
        "X=X.drop(['Img_features'], axis=1)"
      ]
    },
    {
      "cell_type": "markdown",
      "source": [
        "Running basic models without any hyperparameter tuning"
      ],
      "metadata": {
        "id": "TJw-GYiQW58m"
      }
    },
    {
      "cell_type": "code",
      "execution_count": null,
      "metadata": {
        "colab": {
          "base_uri": "https://localhost:8080/"
        },
        "id": "aQBbfL0SIyb3",
        "outputId": "804d6ff1-b915-4383-ea96-9af3e5b6b9fa"
      },
      "outputs": [
        {
          "output_type": "stream",
          "name": "stdout",
          "text": [
            "1.0\n",
            "1.7608593167775362e-06\n"
          ]
        },
        {
          "output_type": "stream",
          "name": "stderr",
          "text": [
            "/usr/local/lib/python3.7/dist-packages/sklearn/utils/validation.py:1692: FutureWarning: Feature names only support names that are all strings. Got feature names with dtypes: ['int', 'str']. An error will be raised in 1.2.\n",
            "  FutureWarning,\n",
            "/usr/local/lib/python3.7/dist-packages/sklearn/utils/validation.py:1692: FutureWarning: Feature names only support names that are all strings. Got feature names with dtypes: ['int', 'str']. An error will be raised in 1.2.\n",
            "  FutureWarning,\n",
            "/usr/local/lib/python3.7/dist-packages/sklearn/utils/validation.py:1692: FutureWarning: Feature names only support names that are all strings. Got feature names with dtypes: ['int', 'str']. An error will be raised in 1.2.\n",
            "  FutureWarning,\n"
          ]
        }
      ],
      "source": [
        "# Baseline and simple models\n",
        "from sklearn.linear_model import LinearRegression\n",
        "reg = LinearRegression().fit(X, y)\n",
        "score=reg.score(X, y)\n",
        "print(score)\n",
        "y1=reg.predict(X)\n",
        "print(((np.sum((y1-y)**2))**(1/2))/len(y))"
      ]
    },
    {
      "cell_type": "code",
      "execution_count": null,
      "metadata": {
        "id": "4Skq-9izQUfa"
      },
      "outputs": [],
      "source": [
        "from sklearn.model_selection import train_test_split\n",
        "X_train, X_test, y_train, y_test = train_test_split(X, y, test_size=0.33, random_state=42)"
      ]
    },
    {
      "cell_type": "code",
      "execution_count": null,
      "metadata": {
        "colab": {
          "base_uri": "https://localhost:8080/"
        },
        "id": "rbfzyWJdVBGn",
        "outputId": "9c3cf207-cd4e-4b84-ecfb-81e2797c99ad"
      },
      "outputs": [
        {
          "output_type": "stream",
          "name": "stderr",
          "text": [
            "/usr/local/lib/python3.7/dist-packages/sklearn/utils/validation.py:1692: FutureWarning: Feature names only support names that are all strings. Got feature names with dtypes: ['int', 'str']. An error will be raised in 1.2.\n",
            "  FutureWarning,\n"
          ]
        }
      ],
      "source": [
        "reg = LinearRegression().fit(X_train, y_train)"
      ]
    },
    {
      "cell_type": "code",
      "execution_count": null,
      "metadata": {
        "colab": {
          "base_uri": "https://localhost:8080/"
        },
        "id": "f32HvtuiVPql",
        "outputId": "ea077e26-7799-4308-e259-2158ee767540"
      },
      "outputs": [
        {
          "output_type": "stream",
          "name": "stdout",
          "text": [
            "2774.853533268436\n"
          ]
        },
        {
          "output_type": "stream",
          "name": "stderr",
          "text": [
            "/usr/local/lib/python3.7/dist-packages/sklearn/utils/validation.py:1692: FutureWarning: Feature names only support names that are all strings. Got feature names with dtypes: ['int', 'str']. An error will be raised in 1.2.\n",
            "  FutureWarning,\n"
          ]
        },
        {
          "output_type": "execute_result",
          "data": {
            "text/plain": [
              "0.97431802110994"
            ]
          },
          "metadata": {},
          "execution_count": 625
        }
      ],
      "source": [
        "y1=reg.predict(X_test)\n",
        "print(((np.sum((y1-y_test)**2))**(1/2))/len(y_test))\n",
        "from sklearn.metrics import r2_score\n",
        "r2_score(y1,y_test)"
      ]
    },
    {
      "cell_type": "code",
      "source": [
        "from sklearn.ensemble import RandomForestRegressor\n",
        "from sklearn.datasets import make_classification\n",
        "clf = RandomForestRegressor(n_estimators=150)\n",
        "clf.fit(X_train, y_train)"
      ],
      "metadata": {
        "colab": {
          "base_uri": "https://localhost:8080/"
        },
        "id": "_tsJ3Igglrtn",
        "outputId": "c68435e2-563b-4033-f6a5-c1478120debe"
      },
      "execution_count": null,
      "outputs": [
        {
          "output_type": "stream",
          "name": "stderr",
          "text": [
            "/usr/local/lib/python3.7/dist-packages/sklearn/utils/validation.py:1692: FutureWarning: Feature names only support names that are all strings. Got feature names with dtypes: ['int', 'str']. An error will be raised in 1.2.\n",
            "  FutureWarning,\n"
          ]
        },
        {
          "output_type": "execute_result",
          "data": {
            "text/plain": [
              "RandomForestRegressor(n_estimators=150)"
            ]
          },
          "metadata": {},
          "execution_count": 634
        }
      ]
    },
    {
      "cell_type": "code",
      "source": [
        "from sklearn.metrics import r2_score\n",
        "y1 = clf.predict(X_test)\n",
        "r2_score(y1,y_test)"
      ],
      "metadata": {
        "colab": {
          "base_uri": "https://localhost:8080/"
        },
        "id": "qm8sEJ3TmAx-",
        "outputId": "45d1063a-fbe5-4b6f-a0df-3e557f918d9b"
      },
      "execution_count": null,
      "outputs": [
        {
          "output_type": "stream",
          "name": "stderr",
          "text": [
            "/usr/local/lib/python3.7/dist-packages/sklearn/utils/validation.py:1692: FutureWarning: Feature names only support names that are all strings. Got feature names with dtypes: ['int', 'str']. An error will be raised in 1.2.\n",
            "  FutureWarning,\n"
          ]
        },
        {
          "output_type": "execute_result",
          "data": {
            "text/plain": [
              "0.7617925745139053"
            ]
          },
          "metadata": {},
          "execution_count": 635
        }
      ]
    },
    {
      "cell_type": "code",
      "source": [
        "from sklearn.model_selection import train_test_split\n",
        "X_train, X_test, y_train, y_test = train_test_split(X, y, test_size=0.25, random_state=42)\n",
        "from sklearn.linear_model import LinearRegression\n",
        "from sklearn.metrics import mean_absolute_percentage_error\n",
        "from sklearn.metrics import mean_squared_error\n",
        "# creating the baseline, linear regression model\n",
        "reg = LinearRegression().fit(X_train, y_train)\n",
        "y1 = reg.predict(X_test)\n",
        "from sklearn.metrics import r2_score\n",
        "print(mean_squared_error(y1, y_test)**0.5)\n",
        "print(r2_score(y1, y_test))\n",
        "print(mean_absolute_percentage_error(y1, y_test))\n",
        "\n",
        "# from livelossplot import PlotLossesKeras \n",
        "# model = LinearRegression()\n",
        "# model.fit(X_train, y_train, epochs=10, validation_data=(X_test, y_test), callbacks=[PlotLossesKeras()], verbose=0) "
      ],
      "metadata": {
        "colab": {
          "base_uri": "https://localhost:8080/"
        },
        "id": "akbuOqDGmKwF",
        "outputId": "4debdfcf-8015-4182-e678-362cbee38d57"
      },
      "execution_count": null,
      "outputs": [
        {
          "output_type": "stream",
          "name": "stdout",
          "text": [
            "24753.044595407453\n",
            "0.8644568509368957\n",
            "1.875647282103046\n"
          ]
        }
      ]
    },
    {
      "cell_type": "code",
      "source": [
        "from sklearn.metrics import r2_score\n",
        "from sklearn.metrics import mean_absolute_percentage_error\n",
        "from sklearn.metrics import mean_squared_error\n",
        "from sklearn.linear_model import Lasso\n",
        "from sklearn.linear_model import Ridge\n",
        "from sklearn.linear_model import LinearRegression\n",
        "from sklearn.decomposition import PCA\n",
        "from sklearn.model_selection import train_test_split\n",
        "\n",
        "df = pd.read_csv('Features1000.csv')\n",
        "X = df.iloc[ :,:-1]\n",
        "y = df.iloc[:,-1]\n",
        "X_train, X_test, y_train, y_test = train_test_split(X, y, test_size=0.25, random_state=42)\n",
        "\n",
        "\n",
        "reg = Ridge(max_iter=30000).fit(X_train, y_train)\n",
        "y1 = reg.predict(X_train)\n",
        "print(mean_squared_error(y1, y_train))\n",
        "print(mean_absolute_percentage_error(y1, y_train))"
      ],
      "metadata": {
        "colab": {
          "base_uri": "https://localhost:8080/"
        },
        "id": "NXf9csc8BQE1",
        "outputId": "c8650f50-f44f-4180-a1dc-2c925d43249f"
      },
      "execution_count": null,
      "outputs": [
        {
          "output_type": "stream",
          "name": "stdout",
          "text": [
            "13647393.90367497\n",
            "0.8840616916580171\n"
          ]
        },
        {
          "output_type": "stream",
          "name": "stderr",
          "text": [
            "/usr/local/lib/python3.7/dist-packages/sklearn/linear_model/_ridge.py:194: LinAlgWarning: Ill-conditioned matrix (rcond=2.49616e-17): result may not be accurate.\n",
            "  dual_coef = linalg.solve(K, y, sym_pos=True, overwrite_a=False)\n"
          ]
        }
      ]
    },
    {
      "cell_type": "code",
      "source": [
        "from sklearn.model_selection import train_test_split\n",
        "from sklearn.metrics import mean_absolute_percentage_error\n",
        "X_train, X_test, y_train, y_test = train_test_split(X, y, test_size=0.25, random_state=42)\n",
        "from sklearn.ensemble import RandomForestRegressor\n",
        "from sklearn.metrics import mean_squared_error\n",
        "clf = RandomForestRegressor(n_estimators=150)\n",
        "clf.fit(X_train, y_train)\n",
        "y1 = clf.predict(X_train)\n",
        "print(mean_squared_error(y1, y_train)**0.5)\n",
        "print(r2_score(y1, y_train))\n",
        "print(mean_absolute_percentage_error(y1, y_train))"
      ],
      "metadata": {
        "colab": {
          "base_uri": "https://localhost:8080/"
        },
        "id": "n7gXAdHYwL4H",
        "outputId": "d3129411-f75b-4410-d1e6-5cbc9087ee90"
      },
      "execution_count": null,
      "outputs": [
        {
          "output_type": "stream",
          "name": "stdout",
          "text": [
            "23563.712938106644\n",
            "0.9363194152782253\n",
            "0.23788337366224027\n"
          ]
        }
      ]
    },
    {
      "cell_type": "code",
      "source": [
        "from sklearn import svm\n",
        "from sklearn.model_selection import train_test_split\n",
        "from sklearn.metrics import mean_absolute_percentage_error\n",
        "from sklearn.metrics import mean_squared_error\n",
        "from sklearn.decomposition import PCA\n",
        "from sklearn.model_selection import train_test_split\n",
        "\n",
        "# heree\n",
        "df = pd.read_csv('Features1000.csv')\n",
        "X = df.iloc[ :,:-1]\n",
        "y = df.iloc[:,-1]\n",
        "pca = PCA(n_components=700, svd_solver='full')\n",
        "features_red = pca.fit_transform(X)\n",
        "X_train, X_test, y_train, y_test = train_test_split(features_red, y, test_size=0.25, random_state=42)\n",
        "\n",
        "clf = svm.SVR()\n",
        "X_train, X_test, y_train, y_test = train_test_split(X, y, test_size=0.25, random_state=42)\n",
        "clf.fit(X_train, y_train)\n",
        "y1 = clf.predict(X_train)\n",
        "print(mean_squared_error(y1, y_train)**0.5)\n",
        "print(mean_absolute_percentage_error(y1, y_train))"
      ],
      "metadata": {
        "colab": {
          "base_uri": "https://localhost:8080/"
        },
        "id": "_Ac-ieX3wena",
        "outputId": "9b74262d-bf05-4226-a2a7-507ff78ed274"
      },
      "execution_count": null,
      "outputs": [
        {
          "output_type": "stream",
          "name": "stdout",
          "text": [
            "90991.44673157876\n",
            "3.4954248584899084\n"
          ]
        }
      ]
    },
    {
      "cell_type": "code",
      "source": [
        "from sklearn.model_selection import train_test_split\n",
        "X_train, X_test, y_train, y_test = train_test_split(X, y, test_size=0.25, random_state=42)\n",
        "from sklearn.linear_model import LinearRegression\n",
        "from sklearn.metrics import mean_absolute_percentage_error\n",
        "from sklearn.metrics import mean_squared_error\n",
        "# creating the baseline, linear regression model\n",
        "reg = LinearRegression().fit(X_train, y_train)\n",
        "y1 = reg.predict(X_test)\n",
        "from sklearn.metrics import r2_score\n",
        "print(mean_squared_error(y1, y_test)**0.5)\n",
        "print(r2_score(y1, y_test))\n",
        "print(mean_absolute_percentage_error(y1, y_test))"
      ],
      "metadata": {
        "colab": {
          "base_uri": "https://localhost:8080/"
        },
        "id": "s3my8Rt0YCgZ",
        "outputId": "6cf7fb08-8da2-410e-c379-87e4a49660c2"
      },
      "execution_count": null,
      "outputs": [
        {
          "output_type": "stream",
          "name": "stdout",
          "text": [
            "24752.904379697906\n",
            "0.8644585719163527\n",
            "1.8834307611703354\n"
          ]
        }
      ]
    },
    {
      "cell_type": "code",
      "source": [
        "from sklearn import svm\n",
        "from sklearn.model_selection import train_test_split\n",
        "from sklearn.metrics import mean_absolute_percentage_error\n",
        "from sklearn.metrics import mean_squared_error\n",
        "from sklearn.metrics import r2_score\n",
        "clf = svm.SVR()\n",
        "X_train, X_test, y_train, y_test = train_test_split(X, y, test_size=0.25, random_state=42)\n",
        "clf.fit(X_train, y_train)\n",
        "y1 = clf.predict(X_test)\n",
        "print(mean_squared_error(y1, y_test)**0.5)\n",
        "print(r2_score(y1, y_test))\n",
        "print(mean_absolute_percentage_error(y1, y_test))"
      ],
      "metadata": {
        "colab": {
          "base_uri": "https://localhost:8080/"
        },
        "id": "Z5ojc9SbbRjh",
        "outputId": "57693d92-3fca-4990-b6a2-fff9816ca41b"
      },
      "execution_count": null,
      "outputs": [
        {
          "output_type": "stream",
          "name": "stdout",
          "text": [
            "71259.22972558164\n",
            "-3620891.562852596\n",
            "3.116394310987871\n"
          ]
        }
      ]
    },
    {
      "cell_type": "code",
      "source": [
        "from sklearn.metrics import r2_score\n",
        "from sklearn.metrics import mean_absolute_percentage_error\n",
        "from sklearn.metrics import mean_squared_error\n",
        "from sklearn.linear_model import Lasso\n",
        "from sklearn.linear_model import Ridge\n",
        "\n",
        "reg = Lasso(alpha = 0.002).fit(X_train, y_train)\n",
        "y1 = reg.predict(X_test)\n",
        "print(mean_squared_error(y1, y_test)**0.5)\n",
        "print(r2_score(y1, y_test))\n",
        "print(mean_absolute_percentage_error(y1, y_test))"
      ],
      "metadata": {
        "colab": {
          "base_uri": "https://localhost:8080/"
        },
        "id": "Q1-gAib9bRlm",
        "outputId": "4e8a37ba-ad9a-4cf1-c949-0cddef785a6a"
      },
      "execution_count": null,
      "outputs": [
        {
          "output_type": "stream",
          "name": "stdout",
          "text": [
            "52224.89274378782\n",
            "0.5605703588026907\n",
            "1.1663414843554847\n"
          ]
        }
      ]
    },
    {
      "cell_type": "code",
      "source": [
        "from sklearn.model_selection import train_test_split\n",
        "from sklearn.metrics import mean_absolute_percentage_error\n",
        "X_train, X_test, y_train, y_test = train_test_split(X, y, test_size=0.25, random_state=42)\n",
        "from sklearn.ensemble import RandomForestRegressor\n",
        "from sklearn.metrics import mean_squared_error\n",
        "clf = RandomForestRegressor(n_estimators=150)\n",
        "clf.fit(X_train, y_train)\n",
        "y1 = clf.predict(X_test)\n",
        "print(mean_squared_error(y1, y_test)**0.5)\n",
        "print(r2_score(y1, y_test))\n",
        "print(mean_absolute_percentage_error(y1, y_test))"
      ],
      "metadata": {
        "colab": {
          "base_uri": "https://localhost:8080/"
        },
        "id": "mk9kBOD-bRo4",
        "outputId": "d7e8f23a-e40b-4a07-9d11-ef34b01d4664"
      },
      "execution_count": null,
      "outputs": [
        {
          "output_type": "stream",
          "name": "stdout",
          "text": [
            "16887.580976581798\n",
            "0.9426376128846707\n",
            "0.29339827954526543\n"
          ]
        }
      ]
    },
    {
      "cell_type": "code",
      "source": [
        "df = pd.read_csv('Features1000.csv')\n",
        "df_use = df.copy(deep = True)\n",
        "X = df_use.iloc[ :,:-1]\n",
        "y = df_use.iloc[:,-1]"
      ],
      "metadata": {
        "id": "mAKnq7q649nC"
      },
      "execution_count": null,
      "outputs": []
    },
    {
      "cell_type": "markdown",
      "source": [
        "Using trial and error PCA"
      ],
      "metadata": {
        "id": "TElYQxGHW_cI"
      }
    },
    {
      "cell_type": "code",
      "source": [
        "from sklearn.decomposition import PCA\n",
        "pca = PCA(n_components=700, svd_solver='full')\n",
        "features_red = pca.fit_transform(X)"
      ],
      "metadata": {
        "id": "2Mh3ay9b3ufR"
      },
      "execution_count": null,
      "outputs": []
    },
    {
      "cell_type": "code",
      "source": [
        "from sklearn.model_selection import train_test_split\n",
        "X_train, X_test, y_train, y_test = train_test_split(features_red, y, test_size=0.25, random_state=42)"
      ],
      "metadata": {
        "id": "wOYjrB4d5GzP"
      },
      "execution_count": null,
      "outputs": []
    },
    {
      "cell_type": "code",
      "source": [
        "from sklearn.linear_model import LinearRegression\n",
        "from sklearn.metrics import mean_absolute_percentage_error\n",
        "from sklearn.metrics import mean_squared_error\n",
        "# creating the baseline, linear regression model\n",
        "reg = LinearRegression().fit(X_train, y_train)\n",
        "y1 = reg.predict(X_train)\n",
        "print(mean_squared_error(y1, y_train)**0.5)\n",
        "print(mean_absolute_percentage_error(y1, y_train))"
      ],
      "metadata": {
        "colab": {
          "base_uri": "https://localhost:8080/"
        },
        "id": "yqcCegSQ5Gnu",
        "outputId": "f520e68f-db4c-4951-ec27-7a4d13566432"
      },
      "execution_count": null,
      "outputs": [
        {
          "output_type": "stream",
          "name": "stdout",
          "text": [
            "5586.412434421259\n",
            "3.6114548368591786\n"
          ]
        }
      ]
    },
    {
      "cell_type": "code",
      "source": [
        "y1 = reg.predict(X_test)\n",
        "print(mean_squared_error(y1, y_test)**0.5)\n",
        "print(mean_absolute_percentage_error(y1, y_test))"
      ],
      "metadata": {
        "colab": {
          "base_uri": "https://localhost:8080/"
        },
        "id": "9RrvfrRu6ul7",
        "outputId": "1fbe7a9c-72b3-4585-d953-ce2bbaae2950"
      },
      "execution_count": null,
      "outputs": [
        {
          "output_type": "stream",
          "name": "stdout",
          "text": [
            "84512.55619132951\n",
            "1.0672819391382375\n"
          ]
        }
      ]
    },
    {
      "cell_type": "code",
      "source": [
        "# PLOT FOR ITERATION VS LOSS ON LINEAR REGRESSION"
      ],
      "metadata": {
        "id": "Ur9H487xg-Bj"
      },
      "execution_count": null,
      "outputs": []
    },
    {
      "cell_type": "code",
      "source": [
        "df = pd.read_csv('Features1000.csv')\n",
        "df.shape\n",
        "df = df.drop(['Unnamed: 0'],axis=1)\n",
        "df.head()"
      ],
      "metadata": {
        "colab": {
          "base_uri": "https://localhost:8080/",
          "height": 299
        },
        "id": "TTHi8rWIg-YR",
        "outputId": "45999157-736e-417b-9109-c52aee0ae4e7"
      },
      "execution_count": null,
      "outputs": [
        {
          "output_type": "execute_result",
          "data": {
            "text/plain": [
              "   numberPosts  numberFollowers  numberFollowing  avgPrevious10Likes  \\\n",
              "0        988.0         720979.0            233.0        19881.545455   \n",
              "1        988.0         720979.0            233.0        17773.272727   \n",
              "2        988.0         720979.0            233.0        19516.090909   \n",
              "3        938.0         792886.0            466.0         8919.545455   \n",
              "4        938.0         792886.0            466.0         9201.545455   \n",
              "\n",
              "   stdPrevious10Likes  avgPrevious3Likes  stdPrevious3Likes  avgPostsWeekly  \\\n",
              "0         8586.574056           13742.00        5156.535691        5.526316   \n",
              "1         7503.863008           12386.75        5161.117838        5.666667   \n",
              "2         9014.520102           13455.00        5818.683958        5.333333   \n",
              "3         3214.840665            5660.75        3003.871557        2.234043   \n",
              "4         2948.003884            5195.75        1941.644750        2.113208   \n",
              "\n",
              "          0         1  ...      2557      2558      2559  location  day  \\\n",
              "0 -0.002280 -0.017729  ...  0.013541  0.031781  0.018378       0.0  5.0   \n",
              "1  0.010709 -0.002380  ... -0.019111  0.081293  0.087240       0.0  7.0   \n",
              "2 -0.069648 -0.021704  ...  0.039414  0.108740  0.083758       0.0  7.0   \n",
              "3 -0.014948  0.008093  ... -0.018497  0.022161  0.055523       0.0  3.0   \n",
              "4  0.000791  0.002344  ... -0.005238  0.127526  0.117725       0.0  2.0   \n",
              "\n",
              "   interaction  numTags  numMentions  followerFollowingRatio  numberLikes  \n",
              "0     2.757576      2.0          4.0                0.323172      11227.0  \n",
              "1     2.465158      1.0          7.0                0.323172      10047.0  \n",
              "2     2.706888      3.0          8.0                0.323172      16781.0  \n",
              "3     1.124947      0.0          0.0                0.587726       9132.0  \n",
              "4     1.160513      1.0          1.0                0.587726       6000.0  \n",
              "\n",
              "[5 rows x 2575 columns]"
            ],
            "text/html": [
              "\n",
              "  <div id=\"df-75a7f9c4-39b0-4cb5-bb2c-4a0ce55cb2e1\">\n",
              "    <div class=\"colab-df-container\">\n",
              "      <div>\n",
              "<style scoped>\n",
              "    .dataframe tbody tr th:only-of-type {\n",
              "        vertical-align: middle;\n",
              "    }\n",
              "\n",
              "    .dataframe tbody tr th {\n",
              "        vertical-align: top;\n",
              "    }\n",
              "\n",
              "    .dataframe thead th {\n",
              "        text-align: right;\n",
              "    }\n",
              "</style>\n",
              "<table border=\"1\" class=\"dataframe\">\n",
              "  <thead>\n",
              "    <tr style=\"text-align: right;\">\n",
              "      <th></th>\n",
              "      <th>numberPosts</th>\n",
              "      <th>numberFollowers</th>\n",
              "      <th>numberFollowing</th>\n",
              "      <th>avgPrevious10Likes</th>\n",
              "      <th>stdPrevious10Likes</th>\n",
              "      <th>avgPrevious3Likes</th>\n",
              "      <th>stdPrevious3Likes</th>\n",
              "      <th>avgPostsWeekly</th>\n",
              "      <th>0</th>\n",
              "      <th>1</th>\n",
              "      <th>...</th>\n",
              "      <th>2557</th>\n",
              "      <th>2558</th>\n",
              "      <th>2559</th>\n",
              "      <th>location</th>\n",
              "      <th>day</th>\n",
              "      <th>interaction</th>\n",
              "      <th>numTags</th>\n",
              "      <th>numMentions</th>\n",
              "      <th>followerFollowingRatio</th>\n",
              "      <th>numberLikes</th>\n",
              "    </tr>\n",
              "  </thead>\n",
              "  <tbody>\n",
              "    <tr>\n",
              "      <th>0</th>\n",
              "      <td>988.0</td>\n",
              "      <td>720979.0</td>\n",
              "      <td>233.0</td>\n",
              "      <td>19881.545455</td>\n",
              "      <td>8586.574056</td>\n",
              "      <td>13742.00</td>\n",
              "      <td>5156.535691</td>\n",
              "      <td>5.526316</td>\n",
              "      <td>-0.002280</td>\n",
              "      <td>-0.017729</td>\n",
              "      <td>...</td>\n",
              "      <td>0.013541</td>\n",
              "      <td>0.031781</td>\n",
              "      <td>0.018378</td>\n",
              "      <td>0.0</td>\n",
              "      <td>5.0</td>\n",
              "      <td>2.757576</td>\n",
              "      <td>2.0</td>\n",
              "      <td>4.0</td>\n",
              "      <td>0.323172</td>\n",
              "      <td>11227.0</td>\n",
              "    </tr>\n",
              "    <tr>\n",
              "      <th>1</th>\n",
              "      <td>988.0</td>\n",
              "      <td>720979.0</td>\n",
              "      <td>233.0</td>\n",
              "      <td>17773.272727</td>\n",
              "      <td>7503.863008</td>\n",
              "      <td>12386.75</td>\n",
              "      <td>5161.117838</td>\n",
              "      <td>5.666667</td>\n",
              "      <td>0.010709</td>\n",
              "      <td>-0.002380</td>\n",
              "      <td>...</td>\n",
              "      <td>-0.019111</td>\n",
              "      <td>0.081293</td>\n",
              "      <td>0.087240</td>\n",
              "      <td>0.0</td>\n",
              "      <td>7.0</td>\n",
              "      <td>2.465158</td>\n",
              "      <td>1.0</td>\n",
              "      <td>7.0</td>\n",
              "      <td>0.323172</td>\n",
              "      <td>10047.0</td>\n",
              "    </tr>\n",
              "    <tr>\n",
              "      <th>2</th>\n",
              "      <td>988.0</td>\n",
              "      <td>720979.0</td>\n",
              "      <td>233.0</td>\n",
              "      <td>19516.090909</td>\n",
              "      <td>9014.520102</td>\n",
              "      <td>13455.00</td>\n",
              "      <td>5818.683958</td>\n",
              "      <td>5.333333</td>\n",
              "      <td>-0.069648</td>\n",
              "      <td>-0.021704</td>\n",
              "      <td>...</td>\n",
              "      <td>0.039414</td>\n",
              "      <td>0.108740</td>\n",
              "      <td>0.083758</td>\n",
              "      <td>0.0</td>\n",
              "      <td>7.0</td>\n",
              "      <td>2.706888</td>\n",
              "      <td>3.0</td>\n",
              "      <td>8.0</td>\n",
              "      <td>0.323172</td>\n",
              "      <td>16781.0</td>\n",
              "    </tr>\n",
              "    <tr>\n",
              "      <th>3</th>\n",
              "      <td>938.0</td>\n",
              "      <td>792886.0</td>\n",
              "      <td>466.0</td>\n",
              "      <td>8919.545455</td>\n",
              "      <td>3214.840665</td>\n",
              "      <td>5660.75</td>\n",
              "      <td>3003.871557</td>\n",
              "      <td>2.234043</td>\n",
              "      <td>-0.014948</td>\n",
              "      <td>0.008093</td>\n",
              "      <td>...</td>\n",
              "      <td>-0.018497</td>\n",
              "      <td>0.022161</td>\n",
              "      <td>0.055523</td>\n",
              "      <td>0.0</td>\n",
              "      <td>3.0</td>\n",
              "      <td>1.124947</td>\n",
              "      <td>0.0</td>\n",
              "      <td>0.0</td>\n",
              "      <td>0.587726</td>\n",
              "      <td>9132.0</td>\n",
              "    </tr>\n",
              "    <tr>\n",
              "      <th>4</th>\n",
              "      <td>938.0</td>\n",
              "      <td>792886.0</td>\n",
              "      <td>466.0</td>\n",
              "      <td>9201.545455</td>\n",
              "      <td>2948.003884</td>\n",
              "      <td>5195.75</td>\n",
              "      <td>1941.644750</td>\n",
              "      <td>2.113208</td>\n",
              "      <td>0.000791</td>\n",
              "      <td>0.002344</td>\n",
              "      <td>...</td>\n",
              "      <td>-0.005238</td>\n",
              "      <td>0.127526</td>\n",
              "      <td>0.117725</td>\n",
              "      <td>0.0</td>\n",
              "      <td>2.0</td>\n",
              "      <td>1.160513</td>\n",
              "      <td>1.0</td>\n",
              "      <td>1.0</td>\n",
              "      <td>0.587726</td>\n",
              "      <td>6000.0</td>\n",
              "    </tr>\n",
              "  </tbody>\n",
              "</table>\n",
              "<p>5 rows × 2575 columns</p>\n",
              "</div>\n",
              "      <button class=\"colab-df-convert\" onclick=\"convertToInteractive('df-75a7f9c4-39b0-4cb5-bb2c-4a0ce55cb2e1')\"\n",
              "              title=\"Convert this dataframe to an interactive table.\"\n",
              "              style=\"display:none;\">\n",
              "        \n",
              "  <svg xmlns=\"http://www.w3.org/2000/svg\" height=\"24px\"viewBox=\"0 0 24 24\"\n",
              "       width=\"24px\">\n",
              "    <path d=\"M0 0h24v24H0V0z\" fill=\"none\"/>\n",
              "    <path d=\"M18.56 5.44l.94 2.06.94-2.06 2.06-.94-2.06-.94-.94-2.06-.94 2.06-2.06.94zm-11 1L8.5 8.5l.94-2.06 2.06-.94-2.06-.94L8.5 2.5l-.94 2.06-2.06.94zm10 10l.94 2.06.94-2.06 2.06-.94-2.06-.94-.94-2.06-.94 2.06-2.06.94z\"/><path d=\"M17.41 7.96l-1.37-1.37c-.4-.4-.92-.59-1.43-.59-.52 0-1.04.2-1.43.59L10.3 9.45l-7.72 7.72c-.78.78-.78 2.05 0 2.83L4 21.41c.39.39.9.59 1.41.59.51 0 1.02-.2 1.41-.59l7.78-7.78 2.81-2.81c.8-.78.8-2.07 0-2.86zM5.41 20L4 18.59l7.72-7.72 1.47 1.35L5.41 20z\"/>\n",
              "  </svg>\n",
              "      </button>\n",
              "      \n",
              "  <style>\n",
              "    .colab-df-container {\n",
              "      display:flex;\n",
              "      flex-wrap:wrap;\n",
              "      gap: 12px;\n",
              "    }\n",
              "\n",
              "    .colab-df-convert {\n",
              "      background-color: #E8F0FE;\n",
              "      border: none;\n",
              "      border-radius: 50%;\n",
              "      cursor: pointer;\n",
              "      display: none;\n",
              "      fill: #1967D2;\n",
              "      height: 32px;\n",
              "      padding: 0 0 0 0;\n",
              "      width: 32px;\n",
              "    }\n",
              "\n",
              "    .colab-df-convert:hover {\n",
              "      background-color: #E2EBFA;\n",
              "      box-shadow: 0px 1px 2px rgba(60, 64, 67, 0.3), 0px 1px 3px 1px rgba(60, 64, 67, 0.15);\n",
              "      fill: #174EA6;\n",
              "    }\n",
              "\n",
              "    [theme=dark] .colab-df-convert {\n",
              "      background-color: #3B4455;\n",
              "      fill: #D2E3FC;\n",
              "    }\n",
              "\n",
              "    [theme=dark] .colab-df-convert:hover {\n",
              "      background-color: #434B5C;\n",
              "      box-shadow: 0px 1px 3px 1px rgba(0, 0, 0, 0.15);\n",
              "      filter: drop-shadow(0px 1px 2px rgba(0, 0, 0, 0.3));\n",
              "      fill: #FFFFFF;\n",
              "    }\n",
              "  </style>\n",
              "\n",
              "      <script>\n",
              "        const buttonEl =\n",
              "          document.querySelector('#df-75a7f9c4-39b0-4cb5-bb2c-4a0ce55cb2e1 button.colab-df-convert');\n",
              "        buttonEl.style.display =\n",
              "          google.colab.kernel.accessAllowed ? 'block' : 'none';\n",
              "\n",
              "        async function convertToInteractive(key) {\n",
              "          const element = document.querySelector('#df-75a7f9c4-39b0-4cb5-bb2c-4a0ce55cb2e1');\n",
              "          const dataTable =\n",
              "            await google.colab.kernel.invokeFunction('convertToInteractive',\n",
              "                                                     [key], {});\n",
              "          if (!dataTable) return;\n",
              "\n",
              "          const docLinkHtml = 'Like what you see? Visit the ' +\n",
              "            '<a target=\"_blank\" href=https://colab.research.google.com/notebooks/data_table.ipynb>data table notebook</a>'\n",
              "            + ' to learn more about interactive tables.';\n",
              "          element.innerHTML = '';\n",
              "          dataTable['output_type'] = 'display_data';\n",
              "          await google.colab.output.renderOutput(dataTable, element);\n",
              "          const docLink = document.createElement('div');\n",
              "          docLink.innerHTML = docLinkHtml;\n",
              "          element.appendChild(docLink);\n",
              "        }\n",
              "      </script>\n",
              "    </div>\n",
              "  </div>\n",
              "  "
            ]
          },
          "metadata": {},
          "execution_count": 2
        }
      ]
    },
    {
      "cell_type": "code",
      "source": [
        "df_use = df.copy(deep = True)\n",
        "X = df_use.iloc[ :,:-1]\n",
        "y = df_use.iloc[:,-1]\n",
        "\n",
        "from sklearn.decomposition import PCA\n",
        "pca = PCA(n_components=700, svd_solver='full')\n",
        "reduced_X = pca.fit_transform(X)\n",
        "\n",
        "from sklearn.model_selection import train_test_split\n",
        "X_train, X_test, y_train, y_test = train_test_split(reduced_X, y, test_size=0.25, random_state=42)"
      ],
      "metadata": {
        "id": "pu2w-1_Djdx8"
      },
      "execution_count": null,
      "outputs": []
    },
    {
      "cell_type": "code",
      "source": [
        "df = pd.read_csv('Features1000.csv')\n",
        "df.shape"
      ],
      "metadata": {
        "colab": {
          "base_uri": "https://localhost:8080/"
        },
        "id": "MuyvVHLushBz",
        "outputId": "1cd119b5-a2b5-4dbe-9ad0-dcfae39c9326"
      },
      "execution_count": null,
      "outputs": [
        {
          "output_type": "execute_result",
          "data": {
            "text/plain": [
              "(1012, 2576)"
            ]
          },
          "metadata": {},
          "execution_count": 13
        }
      ]
    },
    {
      "cell_type": "code",
      "source": [
        "df = pd.read_csv('Features1000.csv')\n",
        "from sklearn.decomposition import PCA\n",
        "from sklearn.metrics import mean_absolute_percentage_error\n",
        "from sklearn.metrics import mean_squared_error\n",
        "from sklearn.linear_model import LinearRegression\n",
        "from sklearn.model_selection import train_test_split\n",
        "\n",
        "numberoffeatures = []\n",
        "i = 0\n",
        "while(i<1000):\n",
        "  i += 100\n",
        "  numberoffeatures.append(i)\n",
        "print(numberoffeatures)\n",
        "acc=[]\n",
        "f1=[]\n",
        "for nf in numberoffeatures:\n",
        "    pca = PCA(n_components = nf, svd_solver = 'full')\n",
        "    df_use = df.copy(deep = True)\n",
        "    X = df_use.iloc[ :,:-1]\n",
        "    y = df_use.iloc[:,-1]\n",
        "    print(np.any(np.isnan(X)))\n",
        "    X_red = pca.fit_transform(X)\n",
        "    X_train, X_test, y_train, y_test = train_test_split(X_red, y, test_size = 0.25, random_state = 30, shuffle=True)\n",
        "    clf_PCA = LinearRegression().fit(X_train, y_train)\n",
        "    y_pred=clf_PCA.predict(X_train)\n",
        "    acc.append(mean_squared_error(y_pred, y_train)**0.5)\n",
        "    f1.append(mean_absolute_percentage_error(y_pred, y_train))\n",
        "\n",
        "\n",
        "print(f1)\n",
        "acc = acc/max(acc)\n",
        "plt.title(\"Metrics V/s Number of Features\")\n",
        "plt.plot(numberoffeatures,acc,label='RMSE')\n",
        "plt.plot(numberoffeatures,f1,label='Mean Absolute percentage')\n",
        "# plt.plot(variances,prec,label='Precision')\n",
        "# plt.plot(variances,rec,label='Recall')\n",
        "plt.legend(loc=\"upper left\")\n",
        "plt.xlabel(\"Number of Features\")\n",
        "plt.ylabel(\"Metrics\")\n",
        "plt.show()"
      ],
      "metadata": {
        "colab": {
          "base_uri": "https://localhost:8080/",
          "height": 540
        },
        "id": "iFgf5ELOkGZc",
        "outputId": "d3a0c65a-c36d-4f9c-bc4e-630de00fd6d3"
      },
      "execution_count": null,
      "outputs": [
        {
          "output_type": "stream",
          "name": "stdout",
          "text": [
            "[100, 200, 300, 400, 500, 600, 700, 800, 900, 1000]\n",
            "False\n",
            "False\n",
            "False\n",
            "False\n",
            "False\n",
            "False\n",
            "False\n",
            "False\n",
            "False\n",
            "False\n",
            "[1.8259370584556112, 2.435480445746145, 3.4455471699076767, 2.1223797888340705, 1.6325894785021862, 3.0946943520152583, 1.8066054865786114, 2.345919502296816e-09, 2.8947031410084823e-09, 2.0584031497170393e-08]\n"
          ]
        },
        {
          "output_type": "display_data",
          "data": {
            "text/plain": [
              "<Figure size 432x288 with 1 Axes>"
            ],
            "image/png": "[encoded data removed]"
          },
          "metadata": {}
        }
      ]
    },
    {
      "cell_type": "code",
      "source": [
        "def rmse_cost(X, y, theta):\n",
        "    y_pred=[]\n",
        "    for i in range(len(X)):\n",
        "        y_pred_now=np.matmul(X[i],theta.T)\n",
        "        y_pred.append(y_pred_now)\n",
        "    y_pred=np.array(y_pred)\n",
        "    diff=(y_pred-y)**2\n",
        "    return (np.sum(diff)/len(y))**(1/2)\n",
        "    \n",
        "def Linear_Regression(X, y, X_test, y_test,lr, epoch=1000):\n",
        "    Rmse_arr = []\n",
        "    Rmse_test_arr=[]\n",
        "    theta = np.ones((X.shape[1]))\n",
        "    for i in range(epoch):\n",
        "        Err = (np.matmul(X ,theta.T) - y) #yi-y\n",
        "        Gradient = np.matmul(X.T,Err) #xi*(yi-y)----every element of the Gradient matrix becomes the sum over all the data points of the gradient for a theta (theta1,theta2,...)\n",
        "        theta = (theta - (lr/len(y)) * Gradient)\n",
        "        Rmse_arr.append(rmse_cost(X, y, theta))\n",
        "        Rmse_test_arr.append(rmse_cost(X_test, y_test, theta))\n",
        "    return theta, Rmse_arr, Rmse_test_arr"
      ],
      "metadata": {
        "id": "UNnUCpupsQ1b"
      },
      "execution_count": null,
      "outputs": []
    },
    {
      "cell_type": "code",
      "source": [
        "from sklearn.preprocessing import MinMaxScaler\n",
        "norm = MinMaxScaler().fit(X_train)\n",
        "train_X = norm.transform(X_train)\n",
        "test_X = norm.transform(X_test)\n",
        "thetas_R,rmse,rmse_val=Linear_Regression(train_X,y_train.to_numpy(),test_X,y_test.to_numpy(),0.1,500)"
      ],
      "metadata": {
        "id": "2zN6XvKksQzB",
        "colab": {
          "base_uri": "https://localhost:8080/"
        },
        "outputId": "b6b5beb5-0681-4498-ea22-feba5a67b51e"
      },
      "execution_count": null,
      "outputs": [
        {
          "output_type": "stream",
          "name": "stderr",
          "text": [
            "/usr/local/lib/python3.7/dist-packages/numpy/core/fromnumeric.py:86: RuntimeWarning: overflow encountered in reduce\n",
            "  return ufunc.reduce(obj, axis, dtype, out, **passkwargs)\n",
            "/usr/local/lib/python3.7/dist-packages/ipykernel_launcher.py:7: RuntimeWarning: overflow encountered in square\n",
            "  import sys\n",
            "/usr/local/lib/python3.7/dist-packages/ipykernel_launcher.py:16: RuntimeWarning: overflow encountered in matmul\n",
            "  app.launch_new_instance()\n",
            "/usr/local/lib/python3.7/dist-packages/ipykernel_launcher.py:4: RuntimeWarning: invalid value encountered in matmul\n",
            "  after removing the cwd from sys.path.\n",
            "/usr/local/lib/python3.7/dist-packages/ipykernel_launcher.py:15: RuntimeWarning: invalid value encountered in matmul\n",
            "  from ipykernel import kernelapp as app\n",
            "/usr/local/lib/python3.7/dist-packages/ipykernel_launcher.py:16: RuntimeWarning: invalid value encountered in matmul\n",
            "  app.launch_new_instance()\n"
          ]
        }
      ]
    },
    {
      "cell_type": "code",
      "source": [
        "from sklearn.metrics import r2_score\n",
        "from sklearn.metrics import mean_absolute_percentage_error\n",
        "from sklearn.metrics import mean_squared_error\n",
        "from sklearn.linear_model import Lasso\n",
        "from sklearn.linear_model import Ridge\n",
        "from sklearn.linear_model import LinearRegression\n",
        "from sklearn.decomposition import PCA\n",
        "from sklearn.model_selection import train_test_split\n",
        "\n",
        "df = pd.read_csv('Features1000.csv')\n",
        "df = df.iloc[300:1000]\n",
        "print(df.shape)\n",
        "X = df.iloc[ :,:-1]\n",
        "y = df.iloc[:,-1]\n",
        "X.head()\n",
        "# pca = PCA(n_components=700, svd_solver='full')\n",
        "# X_ = pca.fit_transform(X)\n",
        "X_train, X_test, y_train, y_test = train_test_split(X, y, test_size=0.25, random_state=42, shuffle = True)\n",
        "\n",
        "\n",
        "reg = Ridge(alpha = 0.002,max_iter = 10000).fit(X_train, y_train)\n",
        "y1 = reg.predict(X_test)\n",
        "print(mean_squared_error(y_test, y1)**0.5)\n",
        "print(mean_absolute_percentage_error(y1, y_test))"
      ],
      "metadata": {
        "colab": {
          "base_uri": "https://localhost:8080/"
        },
        "id": "SLYPwOCSFJ48",
        "outputId": "a8d7d66d-5ec8-4b52-9609-46e07f0556ae"
      },
      "execution_count": null,
      "outputs": [
        {
          "output_type": "stream",
          "name": "stdout",
          "text": [
            "(700, 2576)\n",
            "18450.550603521206\n",
            "1.930833524965055\n"
          ]
        },
        {
          "output_type": "stream",
          "name": "stderr",
          "text": [
            "/usr/local/lib/python3.7/dist-packages/sklearn/linear_model/_ridge.py:197: UserWarning: Singular matrix in solving dual problem. Using least-squares solution instead.\n",
            "  \"Singular matrix in solving dual problem. Using \"\n"
          ]
        }
      ]
    },
    {
      "cell_type": "code",
      "source": [
        "from sklearn import svm\n",
        "from sklearn.model_selection import train_test_split\n",
        "from sklearn.metrics import mean_absolute_percentage_error\n",
        "from sklearn.metrics import mean_squared_error\n",
        "from sklearn.decomposition import PCA\n",
        "from sklearn.model_selection import train_test_split\n",
        "\n",
        "clf = svm.SVR(kernel = 'poly')\n",
        "clf.fit(X_train, y_train)\n",
        "y1 = clf.predict(X_train)\n",
        "print(mean_squared_error(y_train, y1)**0.5)\n",
        "print(mean_absolute_percentage_error(y1, y_train))"
      ],
      "metadata": {
        "id": "nV_5hwKpsQqY",
        "colab": {
          "base_uri": "https://localhost:8080/"
        },
        "outputId": "d5f0f1d3-b154-4d32-9a46-42d325ffd155"
      },
      "execution_count": null,
      "outputs": [
        {
          "output_type": "stream",
          "name": "stdout",
          "text": [
            "134356.54141952723\n",
            "2.358126301294507\n"
          ]
        }
      ]
    },
    {
      "cell_type": "code",
      "source": [
        "from sklearn.model_selection import train_test_split\n",
        "from sklearn import svm\n",
        "from sklearn.model_selection import train_test_split\n",
        "from sklearn.metrics import mean_absolute_percentage_error\n",
        "from sklearn.metrics import mean_squared_error\n",
        "from sklearn.decomposition import PCA\n",
        "\n",
        "from sklearn.ensemble import RandomForestRegressor\n",
        "from sklearn.metrics import mean_squared_error\n",
        "\n",
        "# df = pd.read_csv('Features1000.csv')\n",
        "# # df = df.iloc[300:1000]\n",
        "# X = df.iloc[ :,:-1]\n",
        "# y = df.iloc[:,-1]\n",
        "# pca = PCA(n_components=700, svd_solver='full')\n",
        "# X_ = pca.fit_transform(X)\n",
        "# X_train, X_test, y_train, y_test = train_test_split(X_, y, test_size=0.25, random_state=42, shuffle = True)\n",
        "\n",
        "\n",
        "clf = RandomForestRegressor(n_estimators=150)\n",
        "clf.fit(X_train, y_train)\n",
        "y1 = clf.predict(X_train)\n",
        "print(mean_squared_error(y_train, y1)**0.5)\n",
        "print(mean_absolute_percentage_error(y1, y_train))"
      ],
      "metadata": {
        "id": "AKLl0teysQoK",
        "colab": {
          "base_uri": "https://localhost:8080/"
        },
        "outputId": "8437cb80-bf7f-4e59-9e1a-ca3c309cca97"
      },
      "execution_count": null,
      "outputs": [
        {
          "output_type": "stream",
          "name": "stdout",
          "text": [
            "15273.817942653504\n",
            "0.17042327176862646\n"
          ]
        }
      ]
    },
    {
      "cell_type": "markdown",
      "source": [
        "Plots for Interim Report"
      ],
      "metadata": {
        "id": "dZ64GnF_XRK4"
      }
    },
    {
      "cell_type": "code",
      "source": [
        "import numpy as np\n",
        "import matplotlib.pyplot as plt\n",
        "\n",
        "X = ['Linear Regression','Lasso','Ridge','SVM', 'Random Forest','Neural Network']\n",
        "Ygirls = [1.7529906671348e-05,2.526951246303082,2663.786887886272,72756.826082552,9921.932616020744,8371.159293447903]\n",
        "Zboys = [19032.503968382454,46568.705845094984,18450.550603521206,41964.571008076535,12024.178354844273,10132.428499993084]\n",
        "\n",
        "X_axis = np.arange(len(X))\n",
        "\n",
        "plt.rcParams[\"figure.figsize\"] = (11,11)\n",
        "plt.bar(X_axis - 0.2, Ygirls, 0.4, label = 'Training',color = 'black')\n",
        "plt.bar(X_axis + 0.2, Zboys, 0.4, label = 'Testing')\n",
        "\n",
        "plt.xticks(X_axis, X)\n",
        "plt.xlabel(\"Models\", fontweight='bold', fontsize = 12)\n",
        "plt.ylabel(\"RMSE\")\n",
        "plt.title(\"RMSE for validation and test sets for different Models using 700 samples\", fontweight='bold')\n",
        "plt.legend()\n",
        "plt.show()\n"
      ],
      "metadata": {
        "id": "Xz82kcWvEV_b",
        "colab": {
          "base_uri": "https://localhost:8080/",
          "height": 681
        },
        "outputId": "35fe416f-cff8-44ef-cfdf-d39f9a8a1212"
      },
      "execution_count": null,
      "outputs": [
        {
          "output_type": "display_data",
          "data": {
            "text/plain": [
              "<Figure size 792x792 with 1 Axes>"
            ],
            "image/png": "[encoded data removed]"
          },
          "metadata": {
            "needs_background": "light"
          }
        }
      ]
    },
    {
      "cell_type": "code",
      "source": [
        "import numpy as np\n",
        "import matplotlib.pyplot as plt\n",
        "\n",
        "X = ['Linear Regression','Lasso','Ridge','SVM', 'Random Forest','Neural Network']\n",
        "Ygirls = [4.258888764313602e-05,5.350236777422723,6617.7812964469185,77103.88664325891,10875.971535335093,993.3483052517918]\n",
        "Zboys = [24658.977884588716,52471.0494080197,25057.245206195457,53204.61501911961,16145.735210932273,6982.895319931441]\n",
        "\n",
        "X_axis = np.arange(len(X))\n",
        "\n",
        "plt.rcParams[\"figure.figsize\"] = (11,11)\n",
        "plt.bar(X_axis - 0.2, Ygirls, 0.4, label = 'Training',color = 'black')\n",
        "plt.bar(X_axis + 0.2, Zboys, 0.4, label = 'Testing')\n",
        "\n",
        "plt.xticks(X_axis, X)\n",
        "plt.xlabel(\"Models\", fontweight='bold', fontsize = 12)\n",
        "plt.ylabel(\"RMSE\")\n",
        "plt.title(\"RMSE for validation and test sets for different Models using 1000 samples\", fontweight='bold')\n",
        "plt.legend()\n",
        "plt.show()\n"
      ],
      "metadata": {
        "colab": {
          "base_uri": "https://localhost:8080/",
          "height": 681
        },
        "id": "q_uTLc0201So",
        "outputId": "2ad88d53-412a-43d0-feec-b4e8c2a3f35a"
      },
      "execution_count": null,
      "outputs": [
        {
          "output_type": "display_data",
          "data": {
            "text/plain": [
              "<Figure size 792x792 with 1 Axes>"
            ],
            "image/png": "[encoded data removed]"
          },
          "metadata": {
            "needs_background": "light"
          }
        }
      ]
    },
    {
      "cell_type": "code",
      "source": [
        "import numpy as np\n",
        "import matplotlib.pyplot as plt\n",
        "\n",
        "X = ['Linear Regression','Lasso','Ridge','SVM', 'Random Forest']\n",
        "Ygirls = [5586.412434421259,5586.413204887581,5587.162425917682,77994.92429232725,15273.817942653504]\n",
        "Zboys = [84512.55619132951,84468.15659238076,83127.36868250446, 53670.66225937854,21579.588529108103]\n",
        "\n",
        "X_axis = np.arange(len(X))\n",
        "\n",
        "plt.rcParams[\"figure.figsize\"] = (8,8)\n",
        "plt.bar(X_axis - 0.2, Ygirls, 0.4, label = 'Training',color = 'black')\n",
        "plt.bar(X_axis + 0.2, Zboys, 0.4, label = 'Testing')\n",
        "\n",
        "plt.xticks(X_axis, X)\n",
        "plt.xlabel(\"Models\", fontweight='bold', fontsize = 12)\n",
        "plt.ylabel(\"RMSE\")\n",
        "plt.title(\"RMSE for validation and test sets for different Models after PCA\", fontweight='bold')\n",
        "plt.legend()\n",
        "plt.show()\n"
      ],
      "metadata": {
        "colab": {
          "base_uri": "https://localhost:8080/",
          "height": 518
        },
        "id": "Z4q0PbFF01Mo",
        "outputId": "98dbd0b3-4249-4743-9bf9-c491a7099937"
      },
      "execution_count": null,
      "outputs": [
        {
          "output_type": "display_data",
          "data": {
            "text/plain": [
              "<Figure size 576x576 with 1 Axes>"
            ],
            "image/png": "[encoded data removed]"
          },
          "metadata": {
            "needs_background": "light"
          }
        }
      ]
    },
    {
      "cell_type": "code",
      "source": [
        "from sklearn.model_selection import train_test_split\n",
        "from sklearn.decomposition import PCA\n",
        "df = pd.read_csv('dataset796_imgfeatures.csv')\n",
        "df = df.replace(np.nan, 0)\n",
        "df = df.drop(['Unnamed: 0'],axis = 1)\n",
        "df = df.drop(['Unnamed: 0.1'],axis = 1)\n",
        "df = df.drop(['filename'],axis = 1)\n",
        "df = df.drop(['numTags'],axis = 1)\n",
        "df = df.drop(['numMentions'],axis = 1)\n",
        "df = df.drop(['day'],axis = 1)\n",
        "df = df.drop(['location'],axis = 1)\n",
        "df = df.drop(['interaction'],axis = 1)\n",
        "y = df['numberLikes']\n",
        "df = df.drop(['numberLikes'],axis = 1)\n",
        "df = df.replace(np.nan, 1)\n",
        "\n",
        "pca = PCA(n_components = 800, svd_solver = 'full')\n",
        "df_use = df.copy(deep = True)\n",
        "df = df_use.iloc[ :,:-1]\n",
        "y = df_use.iloc[:,-1]\n",
        "# print(np.any(np.isnan(X)))\n",
        "X_red = pca.fit_transform(df)\n",
        "\n",
        "X_trainval, X_test, y_trainval, y_test = train_test_split(df, y, test_size=0.1, random_state=42)\n",
        "\n",
        "split = train_test_split(X_trainval, y_trainval, test_size=0.1, random_state=0)\n",
        "(trainvalX, testX, trainvalY, testY) = split\n",
        "\n",
        "X_val = X_trainval.iloc[:150]\n",
        "y_val = y_trainval.iloc[:150]\n",
        "X_train = X_trainval.iloc[150:]\n",
        "y_train = y_trainval.iloc[150:]"
      ],
      "metadata": {
        "id": "poSwopyT01A2"
      },
      "execution_count": null,
      "outputs": []
    },
    {
      "cell_type": "code",
      "source": [
        "df = pd.read_csv('dataset796_imgfeatures.csv')\n",
        "df = df.drop(['Unnamed: 0'],axis = 1)\n",
        "df = df.drop(['Unnamed: 0.1'],axis = 1)\n",
        "df = df.drop(['filename'],axis = 1)\n",
        "df = df.drop(['numTags'],axis = 1)\n",
        "df = df.drop(['numMentions'],axis = 1)\n",
        "df = df.drop(['day'],axis = 1)\n",
        "df = df.drop(['location'],axis = 1)\n",
        "df = df.drop(['interaction'],axis = 1)\n",
        "from sklearn.model_selection import train_test_split\n",
        "y = df['numberLikes']\n",
        "df = df.drop(['numberLikes'],axis = 1)\n",
        "X_trainval, X_test, y_trainval, y_test = train_test_split(df, y, test_size=0.1, random_state=42)\n",
        "\n",
        "# y_trainval = X_trainval['numberLikes']\n",
        "# X_trainval = X_trainval.drop(['numberLikes'],axis=1)\n",
        "split = train_test_split(X_trainval, y_trainval, test_size=0.1, random_state=0)\n",
        "(trainvalX, testX, trainvalY, testY) = split\n",
        "\n",
        "X_train = X_trainval.iloc[:150]\n",
        "y_train = y_trainval.iloc[:150]\n",
        "X_val = X_trainval.iloc[150:]\n",
        "y_val = y_trainval.iloc[150:]"
      ],
      "metadata": {
        "id": "x6wgSkb1KzLK"
      },
      "execution_count": null,
      "outputs": []
    },
    {
      "cell_type": "markdown",
      "source": [
        "Linear Regression"
      ],
      "metadata": {
        "id": "UPIq63fziZTr"
      }
    },
    {
      "cell_type": "code",
      "source": [
        "from sklearn.model_selection import train_test_split\n",
        "from sklearn.linear_model import LinearRegression\n",
        "from sklearn.metrics import mean_absolute_percentage_error\n",
        "from sklearn.metrics import mean_squared_error\n",
        "from sklearn.metrics import r2_score\n",
        "\n",
        "# creating the baseline, linear regression model\n",
        "# true first\n",
        "reg = LinearRegression().fit(X_train, y_train)\n",
        "print('Training:')\n",
        "y1 = reg.predict(X_train)\n",
        "print(mean_squared_error(y_train,y1)**0.5)\n",
        "print(mean_absolute_percentage_error(y1,y_train))\n",
        "print('Validation:')\n",
        "y1 = reg.predict(X_val)\n",
        "print(mean_squared_error(y_val,y1)**0.5)\n",
        "print(mean_absolute_percentage_error(y1,y_val))\n",
        "print('Test:')\n",
        "y1 = reg.predict(X_test)\n",
        "print(mean_squared_error(y_test,y1)**0.5)\n",
        "print(mean_absolute_percentage_error(y1,y_test))"
      ],
      "metadata": {
        "id": "dKZMd_HRNvsO",
        "colab": {
          "base_uri": "https://localhost:8080/"
        },
        "outputId": "f9e169f9-4364-444b-886b-f9bb6ce7d4d9"
      },
      "execution_count": null,
      "outputs": [
        {
          "output_type": "stream",
          "name": "stdout",
          "text": [
            "Training:\n",
            "1.433794327217185e-10\n",
            "0.0017123842846993936\n",
            "Validation:\n",
            "0.05042117154733083\n",
            "1.2690402765278843\n",
            "Test:\n",
            "0.05583154603043446\n",
            "5.358932535690262\n"
          ]
        }
      ]
    },
    {
      "cell_type": "markdown",
      "source": [
        "Lasso"
      ],
      "metadata": {
        "id": "rMRDEAl3i16I"
      }
    },
    {
      "cell_type": "code",
      "source": [
        "from sklearn.metrics import r2_score\n",
        "from sklearn.metrics import mean_absolute_percentage_error\n",
        "from sklearn.metrics import mean_squared_error\n",
        "from sklearn.linear_model import Lasso\n",
        "from sklearn.linear_model import Ridge\n",
        "\n",
        "alphas = [1.0,0.1,0.5,0.6,0.01,0.05,0.06,0.001,0.005,0.0001,0.0005,0.0009]\n",
        "trainingmse = []\n",
        "testingmse = []\n",
        "for aa in alphas:\n",
        "  reg = Lasso(alpha = aa).fit(X_train, y_train)\n",
        "  y1 = reg.predict(X_train)\n",
        "  trainingmse.append(mean_squared_error(y_train,y1)**0.5)\n",
        "  # print(mean_absolute_percentage_error(y1,y_train))\n",
        "  # print('Test:')\n",
        "  y1 = reg.predict(X_test)\n",
        "  testingmse.append(mean_squared_error(y_test,y1)**0.5)\n",
        "  # print(mean_absolute_percentage_error(y1,y_test))"
      ],
      "metadata": {
        "id": "3OIllv9mi2Vd",
        "colab": {
          "base_uri": "https://localhost:8080/"
        },
        "outputId": "3b39ed91-ae3b-4c9c-affd-79ec4342f0fd"
      },
      "execution_count": null,
      "outputs": [
        {
          "output_type": "stream",
          "name": "stderr",
          "text": [
            "/usr/local/lib/python3.7/dist-packages/sklearn/linear_model/_coordinate_descent.py:648: ConvergenceWarning: Objective did not converge. You might want to increase the number of iterations, check the scale of the features or consider increasing regularisation. Duality gap: 3.275e-03, tolerance: 1.826e-04\n",
            "  coef_, l1_reg, l2_reg, X, y, max_iter, tol, rng, random, positive\n",
            "/usr/local/lib/python3.7/dist-packages/sklearn/linear_model/_coordinate_descent.py:648: ConvergenceWarning: Objective did not converge. You might want to increase the number of iterations, check the scale of the features or consider increasing regularisation. Duality gap: 7.862e-01, tolerance: 1.826e-04\n",
            "  coef_, l1_reg, l2_reg, X, y, max_iter, tol, rng, random, positive\n",
            "/usr/local/lib/python3.7/dist-packages/sklearn/linear_model/_coordinate_descent.py:648: ConvergenceWarning: Objective did not converge. You might want to increase the number of iterations, check the scale of the features or consider increasing regularisation. Duality gap: 1.207e-02, tolerance: 1.826e-04\n",
            "  coef_, l1_reg, l2_reg, X, y, max_iter, tol, rng, random, positive\n",
            "/usr/local/lib/python3.7/dist-packages/sklearn/linear_model/_coordinate_descent.py:648: ConvergenceWarning: Objective did not converge. You might want to increase the number of iterations, check the scale of the features or consider increasing regularisation. Duality gap: 3.161e-01, tolerance: 1.826e-04\n",
            "  coef_, l1_reg, l2_reg, X, y, max_iter, tol, rng, random, positive\n",
            "/usr/local/lib/python3.7/dist-packages/sklearn/linear_model/_coordinate_descent.py:648: ConvergenceWarning: Objective did not converge. You might want to increase the number of iterations, check the scale of the features or consider increasing regularisation. Duality gap: 6.211e-01, tolerance: 1.826e-04\n",
            "  coef_, l1_reg, l2_reg, X, y, max_iter, tol, rng, random, positive\n",
            "/usr/local/lib/python3.7/dist-packages/sklearn/linear_model/_coordinate_descent.py:648: ConvergenceWarning: Objective did not converge. You might want to increase the number of iterations, check the scale of the features or consider increasing regularisation. Duality gap: 7.617e-01, tolerance: 1.826e-04\n",
            "  coef_, l1_reg, l2_reg, X, y, max_iter, tol, rng, random, positive\n"
          ]
        }
      ]
    },
    {
      "cell_type": "markdown",
      "source": [
        "Ridge"
      ],
      "metadata": {
        "id": "F2MHdqH2jqTf"
      }
    },
    {
      "cell_type": "code",
      "source": [
        "from sklearn.metrics import r2_score\n",
        "from sklearn.metrics import mean_absolute_percentage_error\n",
        "from sklearn.metrics import mean_squared_error\n",
        "from sklearn.linear_model import Lasso\n",
        "from sklearn.linear_model import Ridge\n",
        "from sklearn.linear_model import LinearRegression\n",
        "from sklearn.decomposition import PCA\n",
        "from sklearn.model_selection import train_test_split\n",
        "\n",
        "reg = Ridge(max_iter=30000,alpha = 0.0001).fit(X_train, y_train)\n",
        "print('Training:')\n",
        "y1 = reg.predict(X_train)\n",
        "print(mean_squared_error(y_train,y1)**0.5)\n",
        "print(mean_absolute_percentage_error(y1,y_train))\n",
        "print('Validation:')\n",
        "y1 = reg.predict(X_val)\n",
        "print(mean_squared_error(y_val,y1)**0.5)\n",
        "print(mean_absolute_percentage_error(y1,y_val))\n",
        "print('Test:')\n",
        "y1 = reg.predict(X_test)\n",
        "print(mean_squared_error(y_test,y1)**0.5)\n",
        "print(mean_absolute_percentage_error(y1,y_test))"
      ],
      "metadata": {
        "id": "FC_iNnK6jqfF",
        "colab": {
          "base_uri": "https://localhost:8080/"
        },
        "outputId": "aa4efb0b-aa14-48d2-b841-b4663445bb2a"
      },
      "execution_count": null,
      "outputs": [
        {
          "output_type": "stream",
          "name": "stderr",
          "text": [
            "/usr/local/lib/python3.7/dist-packages/sklearn/linear_model/_ridge.py:197: UserWarning: Singular matrix in solving dual problem. Using least-squares solution instead.\n",
            "  \"Singular matrix in solving dual problem. Using \"\n"
          ]
        },
        {
          "output_type": "stream",
          "name": "stdout",
          "text": [
            "Training:\n",
            "0.005278878082671312\n",
            "0.33706026897578845\n",
            "Validation:\n",
            "0.050174334209762\n",
            "1.3297522451309767\n",
            "Test:\n",
            "0.055399699025108315\n",
            "3.2366091751789705\n"
          ]
        }
      ]
    },
    {
      "cell_type": "markdown",
      "source": [
        "SVM"
      ],
      "metadata": {
        "id": "OeNpTHcMiflt"
      }
    },
    {
      "cell_type": "code",
      "source": [
        "from sklearn import svm\n",
        "from sklearn.model_selection import train_test_split\n",
        "from sklearn.metrics import mean_absolute_percentage_error\n",
        "from sklearn.metrics import mean_squared_error\n",
        "from sklearn.decomposition import PCA\n",
        "from sklearn.model_selection import train_test_split\n",
        "\n",
        "clf = svm.SVR(kernel='rbf', C=1e3, gamma=0.001)\n",
        "clf.fit(X_train, y_train)\n",
        "print('Training:')\n",
        "y1 = clf.predict(X_train)\n",
        "print(mean_squared_error(y_train,y1)**0.5)\n",
        "print(mean_absolute_percentage_error(y1,y_train))\n",
        "print('Validation:')\n",
        "y1 = clf.predict(X_val)\n",
        "print(mean_squared_error(y_val,y1)**0.5)\n",
        "print(mean_absolute_percentage_error(y1,y_val))\n",
        "print('Test:')\n",
        "y1 = clf.predict(X_test)\n",
        "print(mean_squared_error(y_test,y1)**0.5)\n",
        "print(mean_absolute_percentage_error(y1,y_test))"
      ],
      "metadata": {
        "colab": {
          "base_uri": "https://localhost:8080/"
        },
        "id": "C7DsvKaaESVR",
        "outputId": "3458b15b-1b25-44e3-bbea-5792799a9249"
      },
      "execution_count": null,
      "outputs": [
        {
          "output_type": "stream",
          "name": "stdout",
          "text": [
            "Training:\n",
            "79563.1458472348\n",
            "2.664339092832321\n",
            "Validation:\n",
            "151662.71116914024\n",
            "5.125567198639129\n",
            "Test:\n",
            "44369.92743335725\n",
            "2.2671815488633595\n"
          ]
        }
      ]
    },
    {
      "cell_type": "markdown",
      "source": [
        "Random Forest"
      ],
      "metadata": {
        "id": "mJfHaLFLKovH"
      }
    },
    {
      "cell_type": "code",
      "source": [
        "from sklearn.ensemble import RandomForestRegressor\n",
        "from sklearn.datasets import make_classification\n",
        "clf = RandomForestRegressor(n_estimators=150)\n",
        "clf.fit(X_train, y_train)\n",
        "print('Training:')\n",
        "y1 = clf.predict(X_train)\n",
        "print(mean_squared_error(y_train,y1)**0.5)\n",
        "print(mean_absolute_percentage_error(y1,y_train))\n",
        "print('Validation:')\n",
        "y1 = clf.predict(X_val)\n",
        "print(mean_squared_error(y_val,y1)**0.5)\n",
        "print(mean_absolute_percentage_error(y1,y_val))\n",
        "print('Test:')\n",
        "y1 = clf.predict(X_test)\n",
        "print(mean_squared_error(y_test,y1)**0.5)\n",
        "print(mean_absolute_percentage_error(y1,y_test))"
      ],
      "metadata": {
        "colab": {
          "base_uri": "https://localhost:8080/"
        },
        "id": "D2VS2cdZKqXA",
        "outputId": "52607f4f-3875-4169-b525-ccbff3b8f330"
      },
      "execution_count": null,
      "outputs": [
        {
          "output_type": "stream",
          "name": "stdout",
          "text": [
            "Training:\n",
            "0.014054730971892368\n",
            "0.18348308876780509\n",
            "Validation:\n",
            "0.031332291865992505\n",
            "0.35805715133488786\n",
            "Test:\n",
            "0.033745180947491855\n",
            "0.37174549669469803\n"
          ]
        }
      ]
    },
    {
      "cell_type": "markdown",
      "source": [
        "Plots for Final Report"
      ],
      "metadata": {
        "id": "NGdhOIEgY7ry"
      }
    },
    {
      "cell_type": "code",
      "source": [
        "clf = svm.SVR(kernel='rbf', C=1e3, gamma=0.001)\n",
        "y_rbf = clf.fit(X_train, y_train).predict(X_train)"
      ],
      "metadata": {
        "id": "Y07Lxk0cIHCu"
      },
      "execution_count": null,
      "outputs": []
    },
    {
      "cell_type": "code",
      "source": [
        "lw = 2\n",
        "s = 'avgPostsWeekly'\n",
        "plt.scatter(X_train[s], y_train, color='darkorange', label=s)\n",
        "plt.plot(X_train[s], y_rbf, color='navy', lw=lw, label='RBF model')\n",
        "plt.xlabel(s)\n",
        "plt.ylabel('target')\n",
        "plt.title('Support Vector Regression')\n",
        "plt.legend()\n",
        "plt.show()"
      ],
      "metadata": {
        "colab": {
          "base_uri": "https://localhost:8080/",
          "height": 681
        },
        "id": "NpVUVGffEtg0",
        "outputId": "1e2c711d-ea9d-4cd9-fd82-082b4c77fb28"
      },
      "execution_count": null,
      "outputs": [
        {
          "output_type": "display_data",
          "data": {
            "text/plain": [
              "<Figure size 792x792 with 1 Axes>"
            ],
            "image/png": "[encoded data removed]"
          },
          "metadata": {
            "needs_background": "light"
          }
        }
      ]
    },
    {
      "cell_type": "code",
      "source": [
        "import numpy as np\n",
        "import matplotlib.pyplot as plt\n",
        "\n",
        "X = alphas\n",
        "Ygirls = trainingmse\n",
        "Zboys = testingmse\n",
        "\n",
        "X_axis = np.arange(len(X))\n",
        "\n",
        "plt.rcParams[\"figure.figsize\"] = (11,11)\n",
        "plt.bar(X_axis - 0.2, Ygirls, 0.4, label = 'Training',color = 'black')\n",
        "plt.bar(X_axis + 0.2, Zboys, 0.4, label = 'Testing')\n",
        "\n",
        "plt.xticks(X_axis, X)\n",
        "plt.xlabel(\"Alphas\", fontweight='bold', fontsize = 12)\n",
        "plt.ylabel(\"RMSE\")\n",
        "plt.title(\"Alphas vs Training and Test RMSE for Lasso\", fontweight='bold')\n",
        "plt.legend()\n",
        "plt.show()"
      ],
      "metadata": {
        "colab": {
          "base_uri": "https://localhost:8080/",
          "height": 681
        },
        "id": "rcV7laL-01PQ",
        "outputId": "2518795f-f97d-401f-eef5-b4967c40b140"
      },
      "execution_count": null,
      "outputs": [
        {
          "output_type": "display_data",
          "data": {
            "text/plain": [
              "<Figure size 792x792 with 1 Axes>"
            ],
            "image/png": "[encoded data removed]"
          },
          "metadata": {
            "needs_background": "light"
          }
        }
      ]
    },
    {
      "cell_type": "code",
      "source": [
        "import numpy as np\n",
        "import matplotlib.pyplot as plt\n",
        "\n",
        "X = ['Linear Regression','Lasso','Ridge','SVM', 'Random Forest','Neural Network']\n",
        "Ygirls = [0.00171276441\n",
        ",0.38763558287\n",
        ",0.33706026897\n",
        ",0.52609251227\n",
        ",0.18348308876\n",
        ",0.92128339848\n",
        "]\n",
        "Zboys = [1.14432478588\n",
        ",0.40623156883\n",
        ",3.23660917517\n",
        ",0.50727781702\n",
        ",0.37174549669\n",
        ",0.64385907299\n",
        "] # test\n",
        "\n",
        "X_axis = np.arange(len(X))\n",
        "\n",
        "plt.rcParams[\"figure.figsize\"] = (11,11)\n",
        "plt.bar(X_axis - 0.2, Ygirls, 0.4, label = 'Training',color = 'black')\n",
        "plt.bar(X_axis + 0.2, Zboys, 0.4, label = 'Testing')\n",
        "\n",
        "plt.xticks(X_axis, X)\n",
        "plt.xlabel(\"Models\", fontweight='bold', fontsize = 12)\n",
        "plt.ylabel(\"MAPE\")\n",
        "plt.title(\"Mean Absolute Percentage Error vs models\", fontweight='bold')\n",
        "plt.legend()\n",
        "plt.show()\n"
      ],
      "metadata": {
        "colab": {
          "base_uri": "https://localhost:8080/",
          "height": 681
        },
        "id": "sPPvwK7FhPa1",
        "outputId": "f0643525-519c-40cb-eb6d-ae7d49a5bbd2"
      },
      "execution_count": null,
      "outputs": [
        {
          "output_type": "display_data",
          "data": {
            "text/plain": [
              "<Figure size 792x792 with 1 Axes>"
            ],
            "image/png": "[encoded data removed]"
          },
          "metadata": {
            "needs_background": "light"
          }
        }
      ]
    }
  ],
  "metadata": {
    "colab": {
      "collapsed_sections": [],
      "name": "ML_Project_Isha.ipynb",
      "provenance": []
    },
    "kernelspec": {
      "display_name": "Python 3",
      "name": "python3"
    },
    "language_info": {
      "name": "python"
    }
  },
  "nbformat": 4,
  "nbformat_minor": 0
}